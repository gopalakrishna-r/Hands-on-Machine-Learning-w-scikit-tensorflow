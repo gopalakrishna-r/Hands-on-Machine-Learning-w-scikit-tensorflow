{
 "cells": [
  {
   "cell_type": "code",
   "execution_count": 1,
   "metadata": {},
   "outputs": [],
   "source": [
    "from functools import partial\n",
    "import tensorflow as tf\n",
    "import tensorflow.keras as keras\n",
    "import numpy as np"
   ]
  },
  {
   "cell_type": "code",
   "execution_count": 2,
   "metadata": {},
   "outputs": [],
   "source": [
    "(X_train_full, y_train_full), (X_test, y_test) = keras.datasets.fashion_mnist.load_data()\n",
    "(X_train, y_train) , (X_valid, y_valid)   = (X_train_full[:-5000], y_train_full[:-5000]), (X_train_full[-5000:], y_train_full[-5000:])\n",
    "\n",
    "X_mean = X_train.mean(axis = 0, keepdims = True)\n",
    "X_std  = X_train.std(axis = 0, keepdims = True) + 1e-7\n",
    "\n",
    "X_train = (X_train - X_mean)/(X_std)\n",
    "X_valid = (X_valid - X_mean)/(X_std)\n",
    "X_test = (X_test - X_mean)/(X_std)\n",
    "\n",
    "\n",
    "X_train = X_train[..., np.newaxis]\n",
    "X_valid = X_valid[..., np.newaxis]\n",
    "X_test = X_test[..., np.newaxis]\n",
    "\n"
   ]
  },
  {
   "cell_type": "code",
   "execution_count": 3,
   "metadata": {},
   "outputs": [
    {
     "data": {
      "text/plain": [
       "((55000, 28, 28, 1), (5000, 28, 28, 1))"
      ]
     },
     "execution_count": 3,
     "metadata": {},
     "output_type": "execute_result"
    }
   ],
   "source": [
    "X_train.shape, X_valid.shape"
   ]
  },
  {
   "cell_type": "code",
   "execution_count": 4,
   "metadata": {},
   "outputs": [],
   "source": [
    "DefaultConv2D = partial(keras.layers.Conv2D, kernel_size = 3, activation = tf.nn.relu, padding = \"SAME\")\n",
    "DefaultMaxPool2D = partial(keras.layers.MaxPool2D)\n"
   ]
  },
  {
   "cell_type": "code",
   "execution_count": 5,
   "metadata": {},
   "outputs": [],
   "source": [
    "model = keras.models.Sequential([\n",
    "    DefaultConv2D(filters = 64, kernel_size = 7, input_shape = [28,28, 1]),\n",
    "    DefaultMaxPool2D(pool_size=2), \n",
    "    DefaultConv2D(filters = 128), \n",
    "    DefaultConv2D(filters = 128), \n",
    "    DefaultMaxPool2D(pool_size=2), \n",
    "    DefaultConv2D(filters = 256), \n",
    "    DefaultConv2D(filters = 256), \n",
    "    DefaultMaxPool2D(pool_size=2), \n",
    "    keras.layers.Flatten(),\n",
    "    keras.layers.Dense(units = 128, activation=tf.nn.relu),\n",
    "    keras.layers.Dropout(0.5), \n",
    "    keras.layers.Dense(units = 64, activation=tf.nn.relu),\n",
    "    keras.layers.Dropout(0.5), \n",
    "    keras.layers.Dense(units = 10, activation=tf.nn.softmax)\n",
    "]\n",
    ")"
   ]
  },
  {
   "cell_type": "code",
   "execution_count": 6,
   "metadata": {},
   "outputs": [
    {
     "name": "stdout",
     "output_type": "stream",
     "text": [
      "Model: \"sequential\"\n",
      "_________________________________________________________________\n",
      "Layer (type)                 Output Shape              Param #   \n",
      "=================================================================\n",
      "conv2d (Conv2D)              (None, 28, 28, 64)        3200      \n",
      "_________________________________________________________________\n",
      "max_pooling2d (MaxPooling2D) (None, 14, 14, 64)        0         \n",
      "_________________________________________________________________\n",
      "conv2d_1 (Conv2D)            (None, 14, 14, 128)       73856     \n",
      "_________________________________________________________________\n",
      "conv2d_2 (Conv2D)            (None, 14, 14, 128)       147584    \n",
      "_________________________________________________________________\n",
      "max_pooling2d_1 (MaxPooling2 (None, 7, 7, 128)         0         \n",
      "_________________________________________________________________\n",
      "conv2d_3 (Conv2D)            (None, 7, 7, 256)         295168    \n",
      "_________________________________________________________________\n",
      "conv2d_4 (Conv2D)            (None, 7, 7, 256)         590080    \n",
      "_________________________________________________________________\n",
      "max_pooling2d_2 (MaxPooling2 (None, 3, 3, 256)         0         \n",
      "_________________________________________________________________\n",
      "flatten (Flatten)            (None, 2304)              0         \n",
      "_________________________________________________________________\n",
      "dense (Dense)                (None, 128)               295040    \n",
      "_________________________________________________________________\n",
      "dropout (Dropout)            (None, 128)               0         \n",
      "_________________________________________________________________\n",
      "dense_1 (Dense)              (None, 64)                8256      \n",
      "_________________________________________________________________\n",
      "dropout_1 (Dropout)          (None, 64)                0         \n",
      "_________________________________________________________________\n",
      "dense_2 (Dense)              (None, 10)                650       \n",
      "=================================================================\n",
      "Total params: 1,413,834\n",
      "Trainable params: 1,413,834\n",
      "Non-trainable params: 0\n",
      "_________________________________________________________________\n"
     ]
    }
   ],
   "source": [
    "model.summary()"
   ]
  },
  {
   "cell_type": "code",
   "execution_count": 7,
   "metadata": {},
   "outputs": [
    {
     "name": "stdout",
     "output_type": "stream",
     "text": [
      "Epoch 1/10\n",
      "1719/1719 [==============================] - 9s 5ms/step - loss: 0.7475 - accuracy: 0.7382 - val_loss: 0.3738 - val_accuracy: 0.8596\n",
      "Epoch 2/10\n",
      "1719/1719 [==============================] - 8s 5ms/step - loss: 0.4403 - accuracy: 0.8497 - val_loss: 0.3540 - val_accuracy: 0.8752\n",
      "Epoch 3/10\n",
      "1719/1719 [==============================] - 8s 5ms/step - loss: 0.3783 - accuracy: 0.8713 - val_loss: 0.3213 - val_accuracy: 0.8844\n",
      "Epoch 4/10\n",
      "1719/1719 [==============================] - 8s 5ms/step - loss: 0.3374 - accuracy: 0.8850 - val_loss: 0.3468 - val_accuracy: 0.8794\n",
      "Epoch 5/10\n",
      "1719/1719 [==============================] - 8s 5ms/step - loss: 0.3180 - accuracy: 0.8914 - val_loss: 0.2903 - val_accuracy: 0.8918\n",
      "Epoch 6/10\n",
      "1719/1719 [==============================] - 8s 5ms/step - loss: 0.2973 - accuracy: 0.8983 - val_loss: 0.2734 - val_accuracy: 0.9022\n",
      "Epoch 7/10\n",
      "1719/1719 [==============================] - 8s 5ms/step - loss: 0.2881 - accuracy: 0.9029 - val_loss: 0.3033 - val_accuracy: 0.8930\n",
      "Epoch 8/10\n",
      "1719/1719 [==============================] - 8s 5ms/step - loss: 0.2774 - accuracy: 0.9037 - val_loss: 0.2660 - val_accuracy: 0.9012\n",
      "Epoch 9/10\n",
      "1719/1719 [==============================] - 8s 5ms/step - loss: 0.2624 - accuracy: 0.9107 - val_loss: 0.3063 - val_accuracy: 0.8926\n",
      "Epoch 10/10\n",
      "1719/1719 [==============================] - 9s 5ms/step - loss: 0.2529 - accuracy: 0.9140 - val_loss: 0.2724 - val_accuracy: 0.9022\n",
      "313/313 [==============================] - 1s 2ms/step - loss: 0.3017 - accuracy: 0.8993\n"
     ]
    }
   ],
   "source": [
    "model.compile(loss = tf.losses.SparseCategoricalCrossentropy(), optimizer=tf.optimizers.Adam(), metrics = [\"accuracy\"])\n",
    "model.fit(X_train, y_train, validation_data=(X_valid, y_valid), epochs= 10, workers=0)\n",
    "score = model.evaluate(X_test, y_test)\n",
    "X_new = X_test[:10]\n",
    "y_pred = model.predict(X_new)"
   ]
  },
  {
   "cell_type": "code",
   "execution_count": null,
   "metadata": {},
   "outputs": [],
   "source": []
  }
 ],
 "metadata": {
  "interpreter": {
   "hash": "360eb45faca1e4dfefc4f13aa9499776008d91528b4d443d812d58097d713eb4"
  },
  "kernelspec": {
   "display_name": "Python 3.7.9 64-bit ('d2l': venv)",
   "language": "python",
   "name": "python3"
  },
  "language_info": {
   "codemirror_mode": {
    "name": "ipython",
    "version": 3
   },
   "file_extension": ".py",
   "mimetype": "text/x-python",
   "name": "python",
   "nbconvert_exporter": "python",
   "pygments_lexer": "ipython3",
   "version": "3.7.9"
  },
  "orig_nbformat": 4
 },
 "nbformat": 4,
 "nbformat_minor": 2
}
