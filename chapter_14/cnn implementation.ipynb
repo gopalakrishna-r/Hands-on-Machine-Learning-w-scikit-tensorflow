{
 "cells": [
  {
   "cell_type": "code",
   "execution_count": 1,
   "metadata": {},
   "outputs": [],
   "source": [
    "from functools import partial\n",
    "import tensorflow as tf\n",
    "import tensorflow.keras as keras\n",
    "import numpy as np"
   ]
  },
  {
   "cell_type": "code",
   "execution_count": 2,
   "metadata": {},
   "outputs": [],
   "source": [
    "(X_train_full, y_train_full), (X_test, y_test) = keras.datasets.fashion_mnist.load_data()\n",
    "(X_valid, y_valid), (X_train, y_train)   = (X_train_full[:-5000], y_train_full[:-5000]), (X_train_full[-5000:], y_train_full[-5000:])\n",
    "\n",
    "X_mean = X_train.mean(axis = 0, keepdims = True)\n",
    "X_std  = X_train.std(axis = 0, keepdims = True) + 1e-7\n",
    "\n",
    "X_train = (X_train - X_mean)/(X_std)\n",
    "X_valid = (X_valid - X_mean)/(X_std)\n",
    "X_test = (X_test - X_mean)/(X_std)\n",
    "\n",
    "\n",
    "X_train = X_train[..., np.newaxis]\n",
    "X_valid = X_valid[..., np.newaxis]\n",
    "X_test = X_test[..., np.newaxis]\n",
    "\n"
   ]
  },
  {
   "cell_type": "code",
   "execution_count": 3,
   "metadata": {},
   "outputs": [],
   "source": [
    "DefaultConv2D = partial(keras.layers.Conv2D, kernel_size = 3, activation = tf.nn.relu, padding = \"SAME\")\n",
    "DefaultMaxPool2D = partial(keras.layers.MaxPool2D)\n"
   ]
  },
  {
   "cell_type": "code",
   "execution_count": 4,
   "metadata": {},
   "outputs": [],
   "source": [
    "model = keras.models.Sequential([\n",
    "    DefaultConv2D(filters = 64, kernel_size = 7, input_shape = [28,28, 1]),\n",
    "    DefaultMaxPool2D(pool_size=2), \n",
    "    DefaultConv2D(filters = 128), \n",
    "    DefaultConv2D(filters = 128), \n",
    "    DefaultMaxPool2D(pool_size=2), \n",
    "    DefaultConv2D(filters = 256), \n",
    "    DefaultConv2D(filters = 256), \n",
    "    DefaultMaxPool2D(pool_size=2), \n",
    "    keras.layers.Flatten(),\n",
    "    keras.layers.Dense(units = 128, activation=tf.nn.relu),\n",
    "    keras.layers.Dropout(0.5), \n",
    "    keras.layers.Dense(units = 64, activation=tf.nn.relu),\n",
    "    keras.layers.Dropout(0.5), \n",
    "    keras.layers.Dense(units = 10, activation=tf.nn.softmax)\n",
    "]\n",
    ")"
   ]
  },
  {
   "cell_type": "code",
   "execution_count": 6,
   "metadata": {},
   "outputs": [
    {
     "name": "stdout",
     "output_type": "stream",
     "text": [
      "Epoch 1/10\n",
      "157/157 [==============================] - 5s 29ms/step - loss: 1.5864 - accuracy: 0.4204 - val_loss: 1.0277 - val_accuracy: 0.6647\n",
      "Epoch 2/10\n",
      "157/157 [==============================] - 4s 27ms/step - loss: 0.9904 - accuracy: 0.6512 - val_loss: 0.6417 - val_accuracy: 0.7756\n",
      "Epoch 3/10\n",
      "157/157 [==============================] - 4s 27ms/step - loss: 0.7938 - accuracy: 0.7220 - val_loss: 0.5594 - val_accuracy: 0.7890\n",
      "Epoch 4/10\n",
      "157/157 [==============================] - 4s 27ms/step - loss: 0.6942 - accuracy: 0.7530 - val_loss: 0.5394 - val_accuracy: 0.7948\n",
      "Epoch 5/10\n",
      "157/157 [==============================] - 4s 27ms/step - loss: 0.6096 - accuracy: 0.7872 - val_loss: 0.5089 - val_accuracy: 0.8165\n",
      "Epoch 6/10\n",
      "157/157 [==============================] - 4s 27ms/step - loss: 0.5711 - accuracy: 0.7970 - val_loss: 0.4888 - val_accuracy: 0.8208\n",
      "Epoch 7/10\n",
      "157/157 [==============================] - 4s 27ms/step - loss: 0.5364 - accuracy: 0.8092 - val_loss: 0.5249 - val_accuracy: 0.8100\n",
      "Epoch 8/10\n",
      "157/157 [==============================] - 4s 27ms/step - loss: 0.4898 - accuracy: 0.8280 - val_loss: 0.4686 - val_accuracy: 0.8333\n",
      "Epoch 9/10\n",
      "157/157 [==============================] - 4s 27ms/step - loss: 0.4570 - accuracy: 0.8370 - val_loss: 0.4670 - val_accuracy: 0.8441\n",
      "Epoch 10/10\n",
      "157/157 [==============================] - 4s 27ms/step - loss: 0.4407 - accuracy: 0.8446 - val_loss: 0.4982 - val_accuracy: 0.8406\n",
      "313/313 [==============================] - 1s 2ms/step - loss: 0.5144 - accuracy: 0.8336\n"
     ]
    }
   ],
   "source": [
    "model.compile(loss = tf.losses.SparseCategoricalCrossentropy(), optimizer=tf.optimizers.Adam(), metrics = [\"accuracy\"])\n",
    "model.fit(X_train, y_train, validation_data=(X_valid, y_valid), epochs= 10, workers=0)\n",
    "score = model.evaluate(X_test, y_test)\n",
    "X_new = X_test[:10]\n",
    "y_pred = model.predict(X_new)"
   ]
  },
  {
   "cell_type": "code",
   "execution_count": null,
   "metadata": {},
   "outputs": [],
   "source": []
  }
 ],
 "metadata": {
  "interpreter": {
   "hash": "360eb45faca1e4dfefc4f13aa9499776008d91528b4d443d812d58097d713eb4"
  },
  "kernelspec": {
   "display_name": "Python 3.7.9 64-bit ('d2l': venv)",
   "language": "python",
   "name": "python3"
  },
  "language_info": {
   "codemirror_mode": {
    "name": "ipython",
    "version": 3
   },
   "file_extension": ".py",
   "mimetype": "text/x-python",
   "name": "python",
   "nbconvert_exporter": "python",
   "pygments_lexer": "ipython3",
   "version": "3.7.9"
  },
  "orig_nbformat": 4
 },
 "nbformat": 4,
 "nbformat_minor": 2
}
