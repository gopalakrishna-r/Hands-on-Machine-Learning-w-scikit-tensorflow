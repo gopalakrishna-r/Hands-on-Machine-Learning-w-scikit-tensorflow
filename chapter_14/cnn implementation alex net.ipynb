{
 "cells": [
  {
   "cell_type": "code",
   "execution_count": 1,
   "metadata": {},
   "outputs": [],
   "source": [
    "from functools import partial\n",
    "import tensorflow as tf\n",
    "import tensorflow.keras as keras\n",
    "import numpy as np\n",
    "import zipfile\n",
    "from tensorflow.keras.preprocessing.image import ImageDataGenerator\n",
    "from pathlib import Path\n",
    "import matplotlib.pyplot as plt\n",
    "from CIFARLoader import save_cifar_fit, check_cifar, check_output_path\n",
    "import easydict \n"
   ]
  },
  {
   "cell_type": "code",
   "execution_count": 2,
   "metadata": {},
   "outputs": [],
   "source": [
    "VALIDATION_SPLIT = 0.1\n",
    "\n",
    "train_datagen = ImageDataGenerator(\n",
    "    featurewise_center=True, \n",
    "    samplewise_center=False,\n",
    "    featurewise_std_normalization=True, \n",
    "    samplewise_std_normalization=False,\n",
    "    zca_whitening=False,\n",
    "    zca_epsilon=1e-06,\n",
    "    rescale= 1./255, \n",
    "    rotation_range=40, \n",
    "    width_shift_range=0.2, \n",
    "    height_shift_range= 0.2, \n",
    "    shear_range= 0.2, \n",
    "    zoom_range=0.2, \n",
    "    horizontal_flip=True, \n",
    "    fill_mode='nearest', \n",
    "    validation_split=VALIDATION_SPLIT\n",
    ")\n",
    "\n",
    "test_datagen = ImageDataGenerator(featurewise_center=True,\n",
    "                                  samplewise_center=False,\n",
    "                                  featurewise_std_normalization=True,\n",
    "                                  samplewise_std_normalization=False,\n",
    "                                  zca_whitening=False,\n",
    "                                  zca_epsilon=1e-06,\n",
    "                                  rescale=1./255,\n",
    "                                  rotation_range=40,\n",
    "                                  width_shift_range=0.2,\n",
    "                                  height_shift_range=0.2,\n",
    "                                  shear_range=0.2,\n",
    "                                  zoom_range=0.2,\n",
    "                                  horizontal_flip=True,\n",
    "                                  fill_mode='nearest'\n",
    "                                  )"
   ]
  },
  {
   "cell_type": "code",
   "execution_count": 3,
   "metadata": {},
   "outputs": [],
   "source": [
    "OUTPUT_DIR = 'cifar10_data'"
   ]
  },
  {
   "cell_type": "code",
   "execution_count": 4,
   "metadata": {},
   "outputs": [
    {
     "name": "stdout",
     "output_type": "stream",
     "text": [
      "Loading train data...|/-\\|/-\\|/-\\|/-\\|/-\\|/-\\|/-\\|/-\\|/-\\|/-\\                      \r"
     ]
    },
    {
     "name": "stderr",
     "output_type": "stream",
     "text": [
      "Saving train images: 100%|██████████| 50000/50000 [00:18<00:00, 2664.93it/s]\n"
     ]
    },
    {
     "name": "stdout",
     "output_type": "stream",
     "text": [
      "                     /-\\|/-\\|/-\\|/"
     ]
    },
    {
     "name": "stderr",
     "output_type": "stream",
     "text": [
      "Saving test images: 100%|██████████| 10000/10000 [00:03<00:00, 2525.63it/s]\n"
     ]
    }
   ],
   "source": [
    "args = easydict.EasyDict({\n",
    "    \"dataset\": \"cifar10\",\n",
    "    \"output\": \"cifar10_data\",\n",
    "    \"name_with_batch_index\": False\n",
    "})\n",
    "\n",
    "if check_cifar(args.dataset) :\n",
    "    save_cifar_fit(args, train_datagen, test_datagen)\n"
   ]
  },
  {
   "cell_type": "code",
   "execution_count": 5,
   "metadata": {},
   "outputs": [
    {
     "name": "stdout",
     "output_type": "stream",
     "text": [
      "50000\n"
     ]
    }
   ],
   "source": [
    "import glob\n",
    "\n",
    "IMAGE_COUNT = len(glob.glob(OUTPUT_DIR + '/' + 'train'  + '/*/*'))\n",
    "\n",
    "print(IMAGE_COUNT)"
   ]
  },
  {
   "cell_type": "code",
   "execution_count": 6,
   "metadata": {},
   "outputs": [
    {
     "data": {
      "text/plain": [
       "(50000, 450.0)"
      ]
     },
     "execution_count": 6,
     "metadata": {},
     "output_type": "execute_result"
    }
   ],
   "source": [
    "BATCH_SIZE = 100\n",
    "\n",
    "STEPS_PER_EPOCH = np.ceil((IMAGE_COUNT - IMAGE_COUNT * VALIDATION_SPLIT)/BATCH_SIZE)\n",
    "\n",
    "IMAGE_COUNT, STEPS_PER_EPOCH"
   ]
  },
  {
   "cell_type": "code",
   "execution_count": 7,
   "metadata": {},
   "outputs": [
    {
     "name": "stdout",
     "output_type": "stream",
     "text": [
      "Found 45000 images belonging to 10 classes.\n",
      "Found 5000 images belonging to 10 classes.\n"
     ]
    }
   ],
   "source": [
    "TARGET_SIZE = (227, 227)\n",
    "\n",
    "train_generator = train_datagen.flow_from_directory(\n",
    "    OUTPUT_DIR + '/' + 'train', \n",
    "    target_size=TARGET_SIZE,\n",
    "    batch_size=BATCH_SIZE, \n",
    "    class_mode='categorical', \n",
    "    subset='training',\n",
    "    shuffle=True,\n",
    "    seed=42\n",
    ")\n",
    "validation_generator = train_datagen.flow_from_directory(\n",
    "    OUTPUT_DIR + '/' + 'train',\n",
    "    target_size=TARGET_SIZE,\n",
    "    batch_size=BATCH_SIZE,\n",
    "    class_mode='categorical',\n",
    "    subset='validation',\n",
    "    shuffle=True,\n",
    "    seed=42\n",
    ")\n"
   ]
  },
  {
   "cell_type": "markdown",
   "metadata": {},
   "source": [
    "Alexnet"
   ]
  },
  {
   "cell_type": "code",
   "execution_count": 8,
   "metadata": {},
   "outputs": [],
   "source": [
    "DefaultAlexConv2D = partial(keras.layers.Conv2D, strides=(1, 1) , activation = tf.nn.relu)\n",
    "DefaultAlexMaxPool2D = partial(keras.layers.MaxPool2D, pool_size=(3, 3),  strides = (2, 2))\n",
    "DefaultBatchNormalize = partial(tf.keras.layers.BatchNormalization)\n",
    "DefaultDropout = partial(tf.keras.layers.Dropout, rate = 0.5)"
   ]
  },
  {
   "cell_type": "code",
   "execution_count": 9,
   "metadata": {},
   "outputs": [],
   "source": [
    "from datetime import datetime\n",
    "\n",
    "date_time = datetime.now().strftime(\"%m_%d_%Y_%H_%M_%S\")\n",
    "\n",
    "alex_net_model = keras.models.Sequential([\n",
    "    DefaultAlexConv2D(filters=96, kernel_size=(11, 11),  strides=(4, 4), \n",
    "                      input_shape=(227, 227, 3), padding='VALID'),\n",
    "    DefaultBatchNormalize(),\n",
    "    DefaultAlexMaxPool2D(), \n",
    "    DefaultAlexConv2D(filters = 256, kernel_size = (5, 5), padding = 'SAME'),\n",
    "    DefaultBatchNormalize(),\n",
    "    DefaultAlexMaxPool2D(), \n",
    "    DefaultAlexConv2D(filters = 384, kernel_size = (3, 3),  padding = 'SAME'),\n",
    "    DefaultBatchNormalize(),\n",
    "    DefaultAlexConv2D(filters = 384, kernel_size = (3, 3),  padding = 'SAME'),\n",
    "    DefaultBatchNormalize(),\n",
    "    DefaultAlexConv2D(filters = 256, kernel_size = (3, 3),  padding = 'SAME'),\n",
    "    DefaultBatchNormalize(),\n",
    "    DefaultAlexMaxPool2D(),\n",
    "    keras.layers.Flatten(),\n",
    "    keras.layers.Dense(4096, activation=tf.nn.relu),\n",
    "    DefaultDropout(),\n",
    "    keras.layers.Dense(4096, activation=tf.nn.relu),\n",
    "    DefaultDropout(),\n",
    "    keras.layers.Dense(10, activation=tf.nn.softmax)\n",
    "    ], name=\"alex_net_model_\" + date_time)"
   ]
  },
  {
   "cell_type": "code",
   "execution_count": 10,
   "metadata": {},
   "outputs": [
    {
     "name": "stdout",
     "output_type": "stream",
     "text": [
      "Model: \"alex_net_model_02_03_2022_04_12_08\"\n",
      "_________________________________________________________________\n",
      "Layer (type)                 Output Shape              Param #   \n",
      "=================================================================\n",
      "conv2d (Conv2D)              (None, 55, 55, 96)        34944     \n",
      "_________________________________________________________________\n",
      "batch_normalization (BatchNo (None, 55, 55, 96)        384       \n",
      "_________________________________________________________________\n",
      "max_pooling2d (MaxPooling2D) (None, 27, 27, 96)        0         \n",
      "_________________________________________________________________\n",
      "conv2d_1 (Conv2D)            (None, 27, 27, 256)       614656    \n",
      "_________________________________________________________________\n",
      "batch_normalization_1 (Batch (None, 27, 27, 256)       1024      \n",
      "_________________________________________________________________\n",
      "max_pooling2d_1 (MaxPooling2 (None, 13, 13, 256)       0         \n",
      "_________________________________________________________________\n",
      "conv2d_2 (Conv2D)            (None, 13, 13, 384)       885120    \n",
      "_________________________________________________________________\n",
      "batch_normalization_2 (Batch (None, 13, 13, 384)       1536      \n",
      "_________________________________________________________________\n",
      "conv2d_3 (Conv2D)            (None, 13, 13, 384)       1327488   \n",
      "_________________________________________________________________\n",
      "batch_normalization_3 (Batch (None, 13, 13, 384)       1536      \n",
      "_________________________________________________________________\n",
      "conv2d_4 (Conv2D)            (None, 13, 13, 256)       884992    \n",
      "_________________________________________________________________\n",
      "batch_normalization_4 (Batch (None, 13, 13, 256)       1024      \n",
      "_________________________________________________________________\n",
      "max_pooling2d_2 (MaxPooling2 (None, 6, 6, 256)         0         \n",
      "_________________________________________________________________\n",
      "flatten (Flatten)            (None, 9216)              0         \n",
      "_________________________________________________________________\n",
      "dense (Dense)                (None, 4096)              37752832  \n",
      "_________________________________________________________________\n",
      "dropout (Dropout)            (None, 4096)              0         \n",
      "_________________________________________________________________\n",
      "dense_1 (Dense)              (None, 4096)              16781312  \n",
      "_________________________________________________________________\n",
      "dropout_1 (Dropout)          (None, 4096)              0         \n",
      "_________________________________________________________________\n",
      "dense_2 (Dense)              (None, 10)                40970     \n",
      "=================================================================\n",
      "Total params: 58,327,818\n",
      "Trainable params: 58,325,066\n",
      "Non-trainable params: 2,752\n",
      "_________________________________________________________________\n"
     ]
    }
   ],
   "source": [
    "alex_net_model.summary()"
   ]
  },
  {
   "cell_type": "code",
   "execution_count": 11,
   "metadata": {},
   "outputs": [],
   "source": [
    "class myCallback(tf.keras.callbacks.Callback):\n",
    "    def on_epoch_end(self,_,logs={}):\n",
    "        if (logs.get(\"accuracy\")==0.98 and logs.get(\"loss\")<0.03):\n",
    "            print(\"\\nReached 98% accuracy so stopping training\")\n",
    "            self.model.stop_training =True\n",
    "callbacks = myCallback()"
   ]
  },
  {
   "cell_type": "code",
   "execution_count": 12,
   "metadata": {},
   "outputs": [
    {
     "name": "stdout",
     "output_type": "stream",
     "text": [
      "Epoch 1/50\n",
      "450/450 - 81s - loss: 2.0128 - accuracy: 0.3323 - val_loss: 1.8773 - val_accuracy: 0.3386\n",
      "Epoch 2/50\n",
      "450/450 - 61s - loss: 1.5675 - accuracy: 0.4355 - val_loss: 1.3804 - val_accuracy: 0.5076\n",
      "Epoch 3/50\n",
      "450/450 - 61s - loss: 1.4184 - accuracy: 0.4919 - val_loss: 1.2938 - val_accuracy: 0.5406\n",
      "Epoch 4/50\n",
      "450/450 - 61s - loss: 1.3195 - accuracy: 0.5273 - val_loss: 1.1929 - val_accuracy: 0.5796\n",
      "Epoch 5/50\n",
      "450/450 - 62s - loss: 1.2233 - accuracy: 0.5648 - val_loss: 1.1997 - val_accuracy: 0.5738\n",
      "Epoch 6/50\n",
      "450/450 - 62s - loss: 1.1509 - accuracy: 0.5907 - val_loss: 1.1473 - val_accuracy: 0.6030\n",
      "Epoch 7/50\n",
      "450/450 - 60s - loss: 1.0873 - accuracy: 0.6174 - val_loss: 1.1058 - val_accuracy: 0.6146\n",
      "Epoch 8/50\n",
      "450/450 - 60s - loss: 1.0338 - accuracy: 0.6354 - val_loss: 1.0256 - val_accuracy: 0.6564\n",
      "Epoch 9/50\n",
      "450/450 - 60s - loss: 0.9767 - accuracy: 0.6574 - val_loss: 0.9453 - val_accuracy: 0.6808\n",
      "Epoch 10/50\n",
      "450/450 - 60s - loss: 0.9257 - accuracy: 0.6763 - val_loss: 0.9302 - val_accuracy: 0.6856\n",
      "Epoch 11/50\n",
      "450/450 - 62s - loss: 0.8796 - accuracy: 0.6924 - val_loss: 0.9310 - val_accuracy: 0.6944\n",
      "Epoch 12/50\n",
      "450/450 - 60s - loss: 0.8437 - accuracy: 0.7050 - val_loss: 0.9038 - val_accuracy: 0.7014\n",
      "Epoch 13/50\n",
      "450/450 - 60s - loss: 0.8022 - accuracy: 0.7216 - val_loss: 0.8428 - val_accuracy: 0.7192\n",
      "Epoch 14/50\n",
      "450/450 - 61s - loss: 0.7646 - accuracy: 0.7346 - val_loss: 0.8016 - val_accuracy: 0.7370\n",
      "Epoch 15/50\n",
      "450/450 - 61s - loss: 0.7441 - accuracy: 0.7445 - val_loss: 0.7783 - val_accuracy: 0.7472\n",
      "Epoch 16/50\n",
      "450/450 - 60s - loss: 0.7120 - accuracy: 0.7534 - val_loss: 0.7710 - val_accuracy: 0.7508\n",
      "Epoch 17/50\n",
      "450/450 - 61s - loss: 0.6806 - accuracy: 0.7644 - val_loss: 0.7745 - val_accuracy: 0.7416\n",
      "Epoch 18/50\n",
      "450/450 - 64s - loss: 0.6594 - accuracy: 0.7722 - val_loss: 0.7082 - val_accuracy: 0.7824\n",
      "Epoch 19/50\n",
      "450/450 - 62s - loss: 0.6363 - accuracy: 0.7802 - val_loss: 0.6808 - val_accuracy: 0.7810\n",
      "Epoch 20/50\n",
      "450/450 - 62s - loss: 0.6152 - accuracy: 0.7888 - val_loss: 0.6751 - val_accuracy: 0.7826\n",
      "Epoch 21/50\n",
      "450/450 - 61s - loss: 0.5963 - accuracy: 0.7947 - val_loss: 0.6838 - val_accuracy: 0.7802\n",
      "Epoch 22/50\n",
      "450/450 - 60s - loss: 0.5694 - accuracy: 0.8047 - val_loss: 0.6336 - val_accuracy: 0.7976\n",
      "Epoch 23/50\n",
      "450/450 - 60s - loss: 0.5569 - accuracy: 0.8094 - val_loss: 0.6287 - val_accuracy: 0.7980\n",
      "Epoch 24/50\n",
      "450/450 - 60s - loss: 0.5375 - accuracy: 0.8168 - val_loss: 0.6792 - val_accuracy: 0.7808\n",
      "Epoch 25/50\n",
      "450/450 - 60s - loss: 0.5184 - accuracy: 0.8225 - val_loss: 0.6503 - val_accuracy: 0.7888\n",
      "Epoch 26/50\n",
      "450/450 - 60s - loss: 0.5015 - accuracy: 0.8274 - val_loss: 0.6135 - val_accuracy: 0.7946\n",
      "Epoch 27/50\n",
      "450/450 - 60s - loss: 0.4864 - accuracy: 0.8350 - val_loss: 0.5605 - val_accuracy: 0.8236\n",
      "Epoch 28/50\n",
      "450/450 - 60s - loss: 0.4827 - accuracy: 0.8332 - val_loss: 0.5690 - val_accuracy: 0.8050\n",
      "Epoch 29/50\n",
      "450/450 - 60s - loss: 0.4640 - accuracy: 0.8407 - val_loss: 0.5328 - val_accuracy: 0.8294\n",
      "Epoch 30/50\n",
      "450/450 - 60s - loss: 0.4535 - accuracy: 0.8470 - val_loss: 0.5503 - val_accuracy: 0.8146\n",
      "Epoch 31/50\n",
      "450/450 - 60s - loss: 0.4428 - accuracy: 0.8495 - val_loss: 0.5272 - val_accuracy: 0.8232\n",
      "Epoch 32/50\n",
      "450/450 - 61s - loss: 0.4302 - accuracy: 0.8540 - val_loss: 0.5222 - val_accuracy: 0.8298\n",
      "Epoch 33/50\n",
      "450/450 - 66s - loss: 0.4216 - accuracy: 0.8565 - val_loss: 0.5452 - val_accuracy: 0.8204\n",
      "Epoch 34/50\n",
      "450/450 - 62s - loss: 0.4188 - accuracy: 0.8577 - val_loss: 0.5303 - val_accuracy: 0.8280\n",
      "Epoch 35/50\n",
      "450/450 - 61s - loss: 0.4053 - accuracy: 0.8611 - val_loss: 0.5121 - val_accuracy: 0.8376\n",
      "Epoch 36/50\n",
      "450/450 - 62s - loss: 0.3942 - accuracy: 0.8638 - val_loss: 0.4801 - val_accuracy: 0.8400\n",
      "Epoch 37/50\n",
      "450/450 - 61s - loss: 0.3903 - accuracy: 0.8680 - val_loss: 0.5274 - val_accuracy: 0.8192\n",
      "Epoch 38/50\n",
      "450/450 - 60s - loss: 0.3751 - accuracy: 0.8720 - val_loss: 0.4855 - val_accuracy: 0.8374\n",
      "Epoch 39/50\n",
      "450/450 - 61s - loss: 0.3685 - accuracy: 0.8735 - val_loss: 0.4855 - val_accuracy: 0.8396\n",
      "Epoch 40/50\n",
      "450/450 - 60s - loss: 0.3645 - accuracy: 0.8757 - val_loss: 0.4935 - val_accuracy: 0.8350\n",
      "Epoch 41/50\n",
      "450/450 - 61s - loss: 0.3542 - accuracy: 0.8799 - val_loss: 0.4952 - val_accuracy: 0.8324\n",
      "Epoch 42/50\n",
      "450/450 - 60s - loss: 0.3417 - accuracy: 0.8858 - val_loss: 0.4992 - val_accuracy: 0.8308\n",
      "Epoch 43/50\n",
      "450/450 - 60s - loss: 0.3390 - accuracy: 0.8820 - val_loss: 0.4889 - val_accuracy: 0.8370\n",
      "Epoch 44/50\n",
      "450/450 - 60s - loss: 0.3363 - accuracy: 0.8848 - val_loss: 0.4733 - val_accuracy: 0.8468\n",
      "Epoch 45/50\n",
      "450/450 - 61s - loss: 0.3265 - accuracy: 0.8892 - val_loss: 0.4714 - val_accuracy: 0.8428\n",
      "Epoch 46/50\n",
      "450/450 - 60s - loss: 0.3245 - accuracy: 0.8908 - val_loss: 0.4643 - val_accuracy: 0.8414\n",
      "Epoch 47/50\n",
      "450/450 - 60s - loss: 0.3151 - accuracy: 0.8917 - val_loss: 0.4918 - val_accuracy: 0.8402\n",
      "Epoch 48/50\n",
      "450/450 - 60s - loss: 0.3072 - accuracy: 0.8957 - val_loss: 0.4695 - val_accuracy: 0.8400\n",
      "Epoch 49/50\n",
      "450/450 - 60s - loss: 0.3069 - accuracy: 0.8951 - val_loss: 0.4856 - val_accuracy: 0.8358\n",
      "Epoch 50/50\n",
      "450/450 - 60s - loss: 0.3010 - accuracy: 0.8970 - val_loss: 0.4379 - val_accuracy: 0.8474\n"
     ]
    }
   ],
   "source": [
    "alex_net_model.compile(loss=tf.losses.CategoricalCrossentropy(), metrics=[\n",
    "                       'accuracy'], optimizer=tf.optimizers.Adam(learning_rate=0.0001))\n",
    "\n",
    "history = alex_net_model.fit(train_generator,validation_data=validation_generator,\n",
    "    callbacks=[callbacks], verbose=2, workers=16, \n",
    "    epochs=50, steps_per_epoch=STEPS_PER_EPOCH)\n"
   ]
  },
  {
   "cell_type": "code",
   "execution_count": 13,
   "metadata": {},
   "outputs": [
    {
     "name": "stdout",
     "output_type": "stream",
     "text": [
      "Found 10000 images belonging to 10 classes.\n"
     ]
    }
   ],
   "source": [
    "test_generator = test_datagen.flow_from_directory(\n",
    "    OUTPUT_DIR + '/' + 'test', target_size=TARGET_SIZE)\n"
   ]
  },
  {
   "cell_type": "code",
   "execution_count": 14,
   "metadata": {},
   "outputs": [
    {
     "name": "stdout",
     "output_type": "stream",
     "text": [
      "313/313 - 15s - loss: 0.4779 - accuracy: 0.8428\n"
     ]
    }
   ],
   "source": [
    "score = alex_net_model.evaluate(test_generator, workers=16,verbose=2)"
   ]
  },
  {
   "cell_type": "code",
   "execution_count": 15,
   "metadata": {},
   "outputs": [
    {
     "name": "stdout",
     "output_type": "stream",
     "text": [
      "Training accuracy:  0.8969555497169495\n",
      "Training loss:  0.30098575353622437\n",
      "Validation accuracy:  0.8474000096321106\n",
      "Validation loss:  0.43791094422340393\n"
     ]
    },
    {
     "data": {
      "image/png": "[encoded data removed]",
      "text/plain": [
       "<Figure size 432x288 with 1 Axes>"
      ]
     },
     "metadata": {
      "needs_background": "light"
     },
     "output_type": "display_data"
    },
    {
     "data": {
      "image/png": "[encoded data removed]",
      "text/plain": [
       "<Figure size 432x288 with 1 Axes>"
      ]
     },
     "metadata": {
      "needs_background": "light"
     },
     "output_type": "display_data"
    }
   ],
   "source": [
    "\n",
    "acc = history.history['accuracy'][-1]\n",
    "val_acc = history.history['val_accuracy'][-1]\n",
    "loss = history.history['loss'][-1]\n",
    "val_loss = history.history['val_loss'][-1]\n",
    "\n",
    "print(\"Training accuracy: \", acc)\n",
    "print(\"Training loss: \", loss)\n",
    "\n",
    "print(\"Validation accuracy: \", val_acc)\n",
    "print(\"Validation loss: \", val_loss)\n",
    "\n",
    "# Plotting the graphs to visualize the trend of accuracy and loss\n",
    "\n",
    "epochs = range(1, len(history.history['accuracy'])+1)\n",
    "\n",
    "plt.plot(epochs, history.history['accuracy'], 'bo', label='Training acc')\n",
    "plt.plot(epochs, history.history['val_accuracy'], 'b', label='Validation acc')\n",
    "plt.title('Training and validation accuracy')\n",
    "plt.legend()\n",
    "\n",
    "plt.figure()\n",
    "\n",
    "plt.plot(epochs, history.history['loss'], 'bo', label='Training loss')\n",
    "plt.plot(epochs, history.history['val_loss'], 'b', label='Validation loss')\n",
    "plt.title('Training and validation loss')\n",
    "plt.legend()\n",
    "\n",
    "plt.show()"
   ]
  },
  {
   "cell_type": "code",
   "execution_count": 16,
   "metadata": {},
   "outputs": [],
   "source": [
    "alex_net_model.save('alex_net_model_' + date_time + '.h5')\n"
   ]
  }
 ],
 "metadata": {
  "interpreter": {
   "hash": "360eb45faca1e4dfefc4f13aa9499776008d91528b4d443d812d58097d713eb4"
  },
  "kernelspec": {
   "display_name": "Python 3.7.9 64-bit ('d2l': venv)",
   "language": "python",
   "name": "python3"
  },
  "language_info": {
   "codemirror_mode": {
    "name": "ipython",
    "version": 3
   },
   "file_extension": ".py",
   "mimetype": "text/x-python",
   "name": "python",
   "nbconvert_exporter": "python",
   "pygments_lexer": "ipython3",
   "version": "3.7.9"
  },
  "orig_nbformat": 4
 },
 "nbformat": 4,
 "nbformat_minor": 2
}
