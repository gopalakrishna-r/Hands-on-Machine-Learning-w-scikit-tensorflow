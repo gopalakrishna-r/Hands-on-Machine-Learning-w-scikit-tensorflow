{
 "cells": [
  {
   "cell_type": "code",
   "execution_count": 1,
   "metadata": {},
   "outputs": [],
   "source": [
    "from functools import partial\n",
    "import tensorflow as tf\n",
    "import tensorflow.keras as keras\n",
    "import numpy as np\n",
    "import zipfile\n",
    "from tensorflow.keras.preprocessing.image import ImageDataGenerator\n",
    "from pathlib import Path\n",
    "import matplotlib.pyplot as plt\n",
    "from CIFARLoader import save_cifar_fit, check_cifar, check_output_path\n",
    "import easydict \n"
   ]
  },
  {
   "cell_type": "code",
   "execution_count": 2,
   "metadata": {},
   "outputs": [],
   "source": [
    "VALIDATION_SPLIT = 0.1\n",
    "\n",
    "train_datagen = ImageDataGenerator(\n",
    "    featurewise_center=True, \n",
    "    samplewise_center=False,\n",
    "    featurewise_std_normalization=True, \n",
    "    samplewise_std_normalization=False,\n",
    "    zca_whitening=False,\n",
    "    zca_epsilon=1e-06,\n",
    "    rescale= 1./255, \n",
    "    rotation_range=40, \n",
    "    width_shift_range=0.2, \n",
    "    height_shift_range= 0.2, \n",
    "    shear_range= 0.2, \n",
    "    zoom_range=0.2, \n",
    "    horizontal_flip=True, \n",
    "    fill_mode='nearest', \n",
    "    validation_split=VALIDATION_SPLIT\n",
    ")\n",
    "\n",
    "test_datagen = ImageDataGenerator(featurewise_center=True,\n",
    "                                  samplewise_center=False,\n",
    "                                  featurewise_std_normalization=True,\n",
    "                                  samplewise_std_normalization=False,\n",
    "                                  zca_whitening=False,\n",
    "                                  zca_epsilon=1e-06,\n",
    "                                  rescale=1./255,\n",
    "                                  rotation_range=40,\n",
    "                                  width_shift_range=0.2,\n",
    "                                  height_shift_range=0.2,\n",
    "                                  shear_range=0.2,\n",
    "                                  zoom_range=0.2,\n",
    "                                  horizontal_flip=True,\n",
    "                                  fill_mode='nearest'\n",
    "                                  )"
   ]
  },
  {
   "cell_type": "code",
   "execution_count": 3,
   "metadata": {},
   "outputs": [],
   "source": [
    "OUTPUT_DIR = 'cifar10_data'"
   ]
  },
  {
   "cell_type": "code",
   "execution_count": 4,
   "metadata": {},
   "outputs": [
    {
     "name": "stdout",
     "output_type": "stream",
     "text": [
      "Loading train data...|/-\\|/-\\|/-\\|/-\\|/-\\|/-\\|/-\\|/-\\|/-\\|/-\\                      \r"
     ]
    },
    {
     "name": "stderr",
     "output_type": "stream",
     "text": [
      "Saving train images: 100%|██████████| 50000/50000 [00:18<00:00, 2642.44it/s]\n"
     ]
    },
    {
     "name": "stdout",
     "output_type": "stream",
     "text": [
      "                     /-\\|/-\\|/-\\|/"
     ]
    },
    {
     "name": "stderr",
     "output_type": "stream",
     "text": [
      "Saving test images: 100%|██████████| 10000/10000 [00:03<00:00, 2632.03it/s]\n"
     ]
    }
   ],
   "source": [
    "args = easydict.EasyDict({\n",
    "    \"dataset\": \"cifar10\",\n",
    "    \"output\": \"cifar10_data\",\n",
    "    \"name_with_batch_index\": False\n",
    "})\n",
    "\n",
    "if check_cifar(args.dataset) :\n",
    "    save_cifar_fit(args, train_datagen, test_datagen)\n"
   ]
  },
  {
   "cell_type": "code",
   "execution_count": 5,
   "metadata": {},
   "outputs": [
    {
     "name": "stdout",
     "output_type": "stream",
     "text": [
      "50000\n"
     ]
    }
   ],
   "source": [
    "import glob\n",
    "\n",
    "IMAGE_COUNT = len(glob.glob(OUTPUT_DIR + '/' + 'train'  + '/*/*'))\n",
    "\n",
    "print(IMAGE_COUNT)"
   ]
  },
  {
   "cell_type": "code",
   "execution_count": 6,
   "metadata": {},
   "outputs": [
    {
     "data": {
      "text/plain": [
       "(50000, 450.0)"
      ]
     },
     "execution_count": 6,
     "metadata": {},
     "output_type": "execute_result"
    }
   ],
   "source": [
    "BATCH_SIZE = 100\n",
    "\n",
    "STEPS_PER_EPOCH = np.ceil((IMAGE_COUNT - IMAGE_COUNT * VALIDATION_SPLIT)/BATCH_SIZE)\n",
    "\n",
    "IMAGE_COUNT, STEPS_PER_EPOCH"
   ]
  },
  {
   "cell_type": "code",
   "execution_count": 7,
   "metadata": {},
   "outputs": [
    {
     "name": "stdout",
     "output_type": "stream",
     "text": [
      "Found 45000 images belonging to 10 classes.\n",
      "Found 5000 images belonging to 10 classes.\n"
     ]
    }
   ],
   "source": [
    "TARGET_SIZE = (227, 227)\n",
    "\n",
    "train_generator = train_datagen.flow_from_directory(\n",
    "    OUTPUT_DIR + '/' + 'train', \n",
    "    target_size=TARGET_SIZE,\n",
    "    batch_size=BATCH_SIZE, \n",
    "    class_mode='categorical', \n",
    "    subset='training',\n",
    "    shuffle=True,\n",
    "    seed=42\n",
    ")\n",
    "validation_generator = train_datagen.flow_from_directory(\n",
    "    OUTPUT_DIR + '/' + 'train',\n",
    "    target_size=TARGET_SIZE,\n",
    "    batch_size=BATCH_SIZE,\n",
    "    class_mode='categorical',\n",
    "    subset='validation',\n",
    "    shuffle=True,\n",
    "    seed=42\n",
    ")\n"
   ]
  },
  {
   "cell_type": "markdown",
   "metadata": {},
   "source": [
    "Alexnet"
   ]
  },
  {
   "cell_type": "code",
   "execution_count": 8,
   "metadata": {},
   "outputs": [],
   "source": [
    "DefaultAlexConv2D = partial(keras.layers.Conv2D, strides=(1, 1) , activation = tf.nn.relu)\n",
    "DefaultAlexMaxPool2D = partial(keras.layers.MaxPool2D, pool_size=(3, 3),  strides = (2, 2))\n",
    "DefaultBatchNormalize = partial(tf.keras.layers.BatchNormalization)\n",
    "DefaultDropout = partial(tf.keras.layers.Dropout, rate = 0.5)"
   ]
  },
  {
   "cell_type": "code",
   "execution_count": 9,
   "metadata": {},
   "outputs": [],
   "source": [
    "from datetime import datetime\n",
    "\n",
    "date_time = datetime.now().strftime(\"%m_%d_%Y_%H_%M_%S\")\n",
    "\n",
    "alex_net_model = keras.models.Sequential([\n",
    "    DefaultAlexConv2D(filters=96, kernel_size=(11, 11),  strides=(4, 4), \n",
    "                      input_shape=(227, 227, 3), padding='VALID'),\n",
    "    DefaultBatchNormalize(),\n",
    "    DefaultAlexMaxPool2D(), \n",
    "    DefaultAlexConv2D(filters = 256, kernel_size = (5, 5), padding = 'SAME'),\n",
    "    DefaultBatchNormalize(),\n",
    "    DefaultAlexMaxPool2D(), \n",
    "    DefaultAlexConv2D(filters = 384, kernel_size = (3, 3),  padding = 'SAME'),\n",
    "    DefaultBatchNormalize(),\n",
    "    DefaultAlexConv2D(filters = 384, kernel_size = (3, 3),  padding = 'SAME'),\n",
    "    DefaultBatchNormalize(),\n",
    "    DefaultAlexConv2D(filters = 256, kernel_size = (3, 3),  padding = 'SAME'),\n",
    "    DefaultBatchNormalize(),\n",
    "    DefaultAlexMaxPool2D(),\n",
    "    keras.layers.Flatten(),\n",
    "    keras.layers.Dense(4096, activation=tf.nn.relu),\n",
    "    DefaultDropout(),\n",
    "    keras.layers.Dense(4096, activation=tf.nn.relu),\n",
    "    DefaultDropout(),\n",
    "    keras.layers.Dense(10, activation=tf.nn.softmax)\n",
    "    ], name=\"alex_net_model_\" + date_time)"
   ]
  },
  {
   "cell_type": "code",
   "execution_count": 10,
   "metadata": {},
   "outputs": [
    {
     "name": "stdout",
     "output_type": "stream",
     "text": [
      "Model: \"alex_net_model_02_03_2022_02_37_49\"\n",
      "_________________________________________________________________\n",
      "Layer (type)                 Output Shape              Param #   \n",
      "=================================================================\n",
      "conv2d (Conv2D)              (None, 55, 55, 96)        34944     \n",
      "_________________________________________________________________\n",
      "batch_normalization (BatchNo (None, 55, 55, 96)        384       \n",
      "_________________________________________________________________\n",
      "max_pooling2d (MaxPooling2D) (None, 27, 27, 96)        0         \n",
      "_________________________________________________________________\n",
      "conv2d_1 (Conv2D)            (None, 27, 27, 256)       614656    \n",
      "_________________________________________________________________\n",
      "batch_normalization_1 (Batch (None, 27, 27, 256)       1024      \n",
      "_________________________________________________________________\n",
      "max_pooling2d_1 (MaxPooling2 (None, 13, 13, 256)       0         \n",
      "_________________________________________________________________\n",
      "conv2d_2 (Conv2D)            (None, 13, 13, 384)       885120    \n",
      "_________________________________________________________________\n",
      "batch_normalization_2 (Batch (None, 13, 13, 384)       1536      \n",
      "_________________________________________________________________\n",
      "conv2d_3 (Conv2D)            (None, 13, 13, 384)       1327488   \n",
      "_________________________________________________________________\n",
      "batch_normalization_3 (Batch (None, 13, 13, 384)       1536      \n",
      "_________________________________________________________________\n",
      "conv2d_4 (Conv2D)            (None, 13, 13, 256)       884992    \n",
      "_________________________________________________________________\n",
      "batch_normalization_4 (Batch (None, 13, 13, 256)       1024      \n",
      "_________________________________________________________________\n",
      "max_pooling2d_2 (MaxPooling2 (None, 6, 6, 256)         0         \n",
      "_________________________________________________________________\n",
      "flatten (Flatten)            (None, 9216)              0         \n",
      "_________________________________________________________________\n",
      "dense (Dense)                (None, 4096)              37752832  \n",
      "_________________________________________________________________\n",
      "dropout (Dropout)            (None, 4096)              0         \n",
      "_________________________________________________________________\n",
      "dense_1 (Dense)              (None, 4096)              16781312  \n",
      "_________________________________________________________________\n",
      "dropout_1 (Dropout)          (None, 4096)              0         \n",
      "_________________________________________________________________\n",
      "dense_2 (Dense)              (None, 10)                40970     \n",
      "=================================================================\n",
      "Total params: 58,327,818\n",
      "Trainable params: 58,325,066\n",
      "Non-trainable params: 2,752\n",
      "_________________________________________________________________\n"
     ]
    }
   ],
   "source": [
    "alex_net_model.summary()"
   ]
  },
  {
   "cell_type": "code",
   "execution_count": 11,
   "metadata": {},
   "outputs": [],
   "source": [
    "class myCallback(tf.keras.callbacks.Callback):\n",
    "    def on_epoch_end(self,_,logs={}):\n",
    "        if (logs.get(\"accuracy\")==0.98 and logs.get(\"loss\")<0.03):\n",
    "            print(\"\\nReached 98% accuracy so stopping training\")\n",
    "            self.model.stop_training =True\n",
    "callbacks = myCallback()"
   ]
  },
  {
   "cell_type": "code",
   "execution_count": 12,
   "metadata": {},
   "outputs": [
    {
     "name": "stdout",
     "output_type": "stream",
     "text": [
      "Epoch 1/50\n",
      "450/450 - 81s - loss: 2.0299 - accuracy: 0.3266 - val_loss: 1.8024 - val_accuracy: 0.3420\n",
      "Epoch 2/50\n",
      "450/450 - 62s - loss: 1.5637 - accuracy: 0.4344 - val_loss: 1.4196 - val_accuracy: 0.4784\n",
      "Epoch 3/50\n",
      "450/450 - 61s - loss: 1.4196 - accuracy: 0.4923 - val_loss: 1.2987 - val_accuracy: 0.5510\n",
      "Epoch 4/50\n",
      "450/450 - 62s - loss: 1.3089 - accuracy: 0.5326 - val_loss: 1.2330 - val_accuracy: 0.5558\n",
      "Epoch 5/50\n",
      "450/450 - 63s - loss: 1.2204 - accuracy: 0.5653 - val_loss: 1.2549 - val_accuracy: 0.5704\n",
      "Epoch 6/50\n",
      "450/450 - 61s - loss: 1.1403 - accuracy: 0.5953 - val_loss: 1.1367 - val_accuracy: 0.6074\n",
      "Epoch 7/50\n",
      "450/450 - 64s - loss: 1.0811 - accuracy: 0.6183 - val_loss: 1.0283 - val_accuracy: 0.6542\n",
      "Epoch 8/50\n",
      "450/450 - 63s - loss: 1.0221 - accuracy: 0.6392 - val_loss: 0.9823 - val_accuracy: 0.6694\n",
      "Epoch 9/50\n",
      "450/450 - 61s - loss: 0.9727 - accuracy: 0.6592 - val_loss: 0.9667 - val_accuracy: 0.6742\n",
      "Epoch 10/50\n",
      "450/450 - 61s - loss: 0.9203 - accuracy: 0.6766 - val_loss: 0.9790 - val_accuracy: 0.6758\n",
      "Epoch 11/50\n",
      "450/450 - 60s - loss: 0.8710 - accuracy: 0.6961 - val_loss: 0.8611 - val_accuracy: 0.7112\n",
      "Epoch 12/50\n",
      "450/450 - 60s - loss: 0.8334 - accuracy: 0.7098 - val_loss: 0.8387 - val_accuracy: 0.7344\n",
      "Epoch 13/50\n",
      "450/450 - 60s - loss: 0.7958 - accuracy: 0.7250 - val_loss: 0.8563 - val_accuracy: 0.7224\n",
      "Epoch 14/50\n",
      "450/450 - 60s - loss: 0.7640 - accuracy: 0.7358 - val_loss: 0.7969 - val_accuracy: 0.7538\n",
      "Epoch 15/50\n",
      "450/450 - 60s - loss: 0.7402 - accuracy: 0.7446 - val_loss: 0.7887 - val_accuracy: 0.7402\n",
      "Epoch 16/50\n",
      "450/450 - 60s - loss: 0.6942 - accuracy: 0.7594 - val_loss: 0.7495 - val_accuracy: 0.7602\n",
      "Epoch 17/50\n",
      "450/450 - 61s - loss: 0.6817 - accuracy: 0.7636 - val_loss: 0.7852 - val_accuracy: 0.7470\n",
      "Epoch 18/50\n",
      "450/450 - 62s - loss: 0.6597 - accuracy: 0.7720 - val_loss: 0.7314 - val_accuracy: 0.7764\n",
      "Epoch 19/50\n",
      "450/450 - 63s - loss: 0.6282 - accuracy: 0.7843 - val_loss: 0.7426 - val_accuracy: 0.7512\n",
      "Epoch 20/50\n",
      "450/450 - 63s - loss: 0.6117 - accuracy: 0.7922 - val_loss: 0.6732 - val_accuracy: 0.7800\n",
      "Epoch 21/50\n",
      "450/450 - 61s - loss: 0.5926 - accuracy: 0.7959 - val_loss: 0.7463 - val_accuracy: 0.7496\n",
      "Epoch 22/50\n",
      "450/450 - 60s - loss: 0.5747 - accuracy: 0.8037 - val_loss: 0.6755 - val_accuracy: 0.7806\n",
      "Epoch 23/50\n",
      "450/450 - 60s - loss: 0.5483 - accuracy: 0.8116 - val_loss: 0.6224 - val_accuracy: 0.7972\n",
      "Epoch 24/50\n",
      "450/450 - 60s - loss: 0.5355 - accuracy: 0.8178 - val_loss: 0.6230 - val_accuracy: 0.8088\n",
      "Epoch 25/50\n",
      "450/450 - 61s - loss: 0.5216 - accuracy: 0.8206 - val_loss: 0.6001 - val_accuracy: 0.7992\n",
      "Epoch 26/50\n",
      "450/450 - 59s - loss: 0.5056 - accuracy: 0.8289 - val_loss: 0.5636 - val_accuracy: 0.8204\n",
      "Epoch 27/50\n",
      "450/450 - 63s - loss: 0.4971 - accuracy: 0.8297 - val_loss: 0.5929 - val_accuracy: 0.8022\n",
      "Epoch 28/50\n",
      "450/450 - 63s - loss: 0.4779 - accuracy: 0.8359 - val_loss: 0.5708 - val_accuracy: 0.8194\n",
      "Epoch 29/50\n",
      "450/450 - 62s - loss: 0.4647 - accuracy: 0.8403 - val_loss: 0.5626 - val_accuracy: 0.8142\n",
      "Epoch 30/50\n",
      "450/450 - 64s - loss: 0.4512 - accuracy: 0.8465 - val_loss: 0.5546 - val_accuracy: 0.8192\n",
      "Epoch 31/50\n",
      "450/450 - 65s - loss: 0.4429 - accuracy: 0.8487 - val_loss: 0.5179 - val_accuracy: 0.8260\n",
      "Epoch 32/50\n",
      "450/450 - 61s - loss: 0.4306 - accuracy: 0.8532 - val_loss: 0.5283 - val_accuracy: 0.8274\n",
      "Epoch 33/50\n",
      "450/450 - 61s - loss: 0.4202 - accuracy: 0.8572 - val_loss: 0.5337 - val_accuracy: 0.8176\n",
      "Epoch 34/50\n",
      "450/450 - 59s - loss: 0.4144 - accuracy: 0.8598 - val_loss: 0.4937 - val_accuracy: 0.8336\n",
      "Epoch 35/50\n",
      "450/450 - 59s - loss: 0.4084 - accuracy: 0.8624 - val_loss: 0.5084 - val_accuracy: 0.8328\n",
      "Epoch 36/50\n",
      "450/450 - 59s - loss: 0.4038 - accuracy: 0.8623 - val_loss: 0.5075 - val_accuracy: 0.8206\n",
      "Epoch 37/50\n",
      "450/450 - 64s - loss: 0.3884 - accuracy: 0.8694 - val_loss: 0.5168 - val_accuracy: 0.8384\n",
      "Epoch 38/50\n",
      "450/450 - 61s - loss: 0.3831 - accuracy: 0.8700 - val_loss: 0.5117 - val_accuracy: 0.8276\n",
      "Epoch 39/50\n",
      "450/450 - 61s - loss: 0.3738 - accuracy: 0.8723 - val_loss: 0.4952 - val_accuracy: 0.8344\n",
      "Epoch 40/50\n",
      "450/450 - 60s - loss: 0.3629 - accuracy: 0.8769 - val_loss: 0.4871 - val_accuracy: 0.8394\n",
      "Epoch 41/50\n",
      "450/450 - 62s - loss: 0.3562 - accuracy: 0.8778 - val_loss: 0.4972 - val_accuracy: 0.8370\n",
      "Epoch 42/50\n",
      "450/450 - 61s - loss: 0.3579 - accuracy: 0.8796 - val_loss: 0.4901 - val_accuracy: 0.8374\n",
      "Epoch 43/50\n",
      "450/450 - 62s - loss: 0.3459 - accuracy: 0.8822 - val_loss: 0.5025 - val_accuracy: 0.8274\n",
      "Epoch 44/50\n",
      "450/450 - 63s - loss: 0.3352 - accuracy: 0.8845 - val_loss: 0.4766 - val_accuracy: 0.8388\n",
      "Epoch 45/50\n",
      "450/450 - 60s - loss: 0.3270 - accuracy: 0.8901 - val_loss: 0.4693 - val_accuracy: 0.8452\n",
      "Epoch 46/50\n",
      "450/450 - 60s - loss: 0.3201 - accuracy: 0.8896 - val_loss: 0.4749 - val_accuracy: 0.8426\n",
      "Epoch 47/50\n",
      "450/450 - 59s - loss: 0.3110 - accuracy: 0.8948 - val_loss: 0.4755 - val_accuracy: 0.8388\n",
      "Epoch 48/50\n",
      "450/450 - 59s - loss: 0.3101 - accuracy: 0.8944 - val_loss: 0.4739 - val_accuracy: 0.8418\n",
      "Epoch 49/50\n",
      "450/450 - 59s - loss: 0.3082 - accuracy: 0.8945 - val_loss: 0.4529 - val_accuracy: 0.8478\n",
      "Epoch 50/50\n",
      "450/450 - 64s - loss: 0.3026 - accuracy: 0.8964 - val_loss: 0.4527 - val_accuracy: 0.8510\n"
     ]
    }
   ],
   "source": [
    "alex_net_model.compile(loss=tf.losses.CategoricalCrossentropy(), metrics=[\n",
    "                       'accuracy'], optimizer=tf.optimizers.Adam(learning_rate=0.0001))\n",
    "\n",
    "history = alex_net_model.fit(train_generator,validation_data=validation_generator,\n",
    "    callbacks=[callbacks], verbose=2, workers=16, \n",
    "    epochs=50, steps_per_epoch=STEPS_PER_EPOCH)\n"
   ]
  },
  {
   "cell_type": "code",
   "execution_count": 13,
   "metadata": {},
   "outputs": [
    {
     "name": "stdout",
     "output_type": "stream",
     "text": [
      "Found 10000 images belonging to 10 classes.\n"
     ]
    }
   ],
   "source": [
    "test_generator = test_datagen.flow_from_directory(\n",
    "    OUTPUT_DIR + '/' + 'test', target_size=TARGET_SIZE)\n"
   ]
  },
  {
   "cell_type": "code",
   "execution_count": 14,
   "metadata": {},
   "outputs": [
    {
     "name": "stdout",
     "output_type": "stream",
     "text": [
      "313/313 - 16s - loss: 0.4762 - accuracy: 0.8417\n"
     ]
    }
   ],
   "source": [
    "score = alex_net_model.evaluate(test_generator, workers=16,verbose=2)"
   ]
  },
  {
   "cell_type": "code",
   "execution_count": 15,
   "metadata": {},
   "outputs": [
    {
     "name": "stdout",
     "output_type": "stream",
     "text": [
      "Training accuracy:  0.8964444398880005\n",
      "Training loss:  0.3026216924190521\n",
      "Validation accuracy:  0.8510000109672546\n",
      "Validation loss:  0.45269668102264404\n"
     ]
    },
    {
     "data": {
      "image/png": "[encoded data removed]",
      "text/plain": [
       "<Figure size 432x288 with 1 Axes>"
      ]
     },
     "metadata": {
      "needs_background": "light"
     },
     "output_type": "display_data"
    },
    {
     "data": {
      "image/png": "[encoded data removed]",
      "text/plain": [
       "<Figure size 432x288 with 1 Axes>"
      ]
     },
     "metadata": {
      "needs_background": "light"
     },
     "output_type": "display_data"
    }
   ],
   "source": [
    "\n",
    "acc = history.history['accuracy'][-1]\n",
    "val_acc = history.history['val_accuracy'][-1]\n",
    "loss = history.history['loss'][-1]\n",
    "val_loss = history.history['val_loss'][-1]\n",
    "\n",
    "print(\"Training accuracy: \", acc)\n",
    "print(\"Training loss: \", loss)\n",
    "\n",
    "print(\"Validation accuracy: \", val_acc)\n",
    "print(\"Validation loss: \", val_loss)\n",
    "\n",
    "# Plotting the graphs to visualize the trend of accuracy and loss\n",
    "\n",
    "epochs = range(1, len(history.history['accuracy'])+1)\n",
    "\n",
    "plt.plot(epochs, history.history['accuracy'], 'bo', label='Training acc')\n",
    "plt.plot(epochs, history.history['val_accuracy'], 'b', label='Validation acc')\n",
    "plt.title('Training and validation accuracy')\n",
    "plt.legend()\n",
    "\n",
    "plt.figure()\n",
    "\n",
    "plt.plot(epochs, history.history['loss'], 'bo', label='Training loss')\n",
    "plt.plot(epochs, history.history['val_loss'], 'b', label='Validation loss')\n",
    "plt.title('Training and validation loss')\n",
    "plt.legend()\n",
    "\n",
    "plt.show()"
   ]
  },
  {
   "cell_type": "code",
   "execution_count": 16,
   "metadata": {},
   "outputs": [],
   "source": [
    "alex_net_model.save('alex_net_model_' + date_time + '.h5')\n"
   ]
  }
 ],
 "metadata": {
  "interpreter": {
   "hash": "360eb45faca1e4dfefc4f13aa9499776008d91528b4d443d812d58097d713eb4"
  },
  "kernelspec": {
   "display_name": "Python 3.7.9 64-bit ('d2l': venv)",
   "language": "python",
   "name": "python3"
  },
  "language_info": {
   "codemirror_mode": {
    "name": "ipython",
    "version": 3
   },
   "file_extension": ".py",
   "mimetype": "text/x-python",
   "name": "python",
   "nbconvert_exporter": "python",
   "pygments_lexer": "ipython3",
   "version": "3.7.9"
  },
  "orig_nbformat": 4
 },
 "nbformat": 4,
 "nbformat_minor": 2
}
