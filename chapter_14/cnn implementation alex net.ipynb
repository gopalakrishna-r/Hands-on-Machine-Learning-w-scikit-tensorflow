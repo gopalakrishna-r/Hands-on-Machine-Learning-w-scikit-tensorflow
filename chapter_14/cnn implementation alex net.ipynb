{
 "cells": [
  {
   "cell_type": "code",
   "execution_count": 1,
   "metadata": {},
   "outputs": [],
   "source": [
    "from functools import partial\n",
    "import tensorflow as tf\n",
    "import tensorflow.keras as keras\n",
    "import numpy as np\n",
    "import zipfile\n",
    "from tensorflow.keras.preprocessing.image import ImageDataGenerator\n",
    "from pathlib import Path\n",
    "import matplotlib.pyplot as plt\n",
    "from CIFARLoader import save_cifar_fit, check_cifar\n",
    "import easydict \n"
   ]
  },
  {
   "cell_type": "code",
   "execution_count": 2,
   "metadata": {},
   "outputs": [],
   "source": [
    "VALIDATION_SPLIT = 0.1\n",
    "\n",
    "train_datagen = ImageDataGenerator(\n",
    "    featurewise_center=True, \n",
    "    samplewise_center=False,\n",
    "    featurewise_std_normalization=True, \n",
    "    samplewise_std_normalization=False,\n",
    "    zca_whitening=False,\n",
    "    zca_epsilon=1e-06,\n",
    "    rescale= 1./255, \n",
    "    rotation_range=40, \n",
    "    width_shift_range=0.2, \n",
    "    height_shift_range= 0.2, \n",
    "    shear_range= 0.2, \n",
    "    zoom_range=0.2, \n",
    "    horizontal_flip=True, \n",
    "    fill_mode='nearest', \n",
    "    validation_split=VALIDATION_SPLIT\n",
    ")\n",
    "\n",
    "\n",
    "test_datagen = ImageDataGenerator()"
   ]
  },
  {
   "cell_type": "code",
   "execution_count": 3,
   "metadata": {},
   "outputs": [],
   "source": [
    "OUTPUT_DIR = 'cifar10_data'"
   ]
  },
  {
   "cell_type": "code",
   "execution_count": 4,
   "metadata": {},
   "outputs": [
    {
     "name": "stdout",
     "output_type": "stream",
     "text": [
      "                      /-\\|/-\\|/-\\|/-\\|/-\\|/-\\|/-\\|/-\\|/-\\|/-\\|"
     ]
    },
    {
     "name": "stderr",
     "output_type": "stream",
     "text": [
      "Saving train images: 100%|██████████| 50000/50000 [00:18<00:00, 2659.33it/s]\n"
     ]
    },
    {
     "name": "stdout",
     "output_type": "stream",
     "text": [
      "                     /-\\|/-\\|/-\\|/"
     ]
    },
    {
     "name": "stderr",
     "output_type": "stream",
     "text": [
      "Saving test images: 100%|██████████| 10000/10000 [00:03<00:00, 2605.95it/s]\n"
     ]
    }
   ],
   "source": [
    "args = easydict.EasyDict({\n",
    "    \"dataset\": \"cifar10\",\n",
    "    \"output\": \"cifar10_data\",\n",
    "    \"name_with_batch_index\": False\n",
    "})\n",
    "\n",
    "# check_output_path(args.output)\n",
    "\n",
    "if check_cifar(args.dataset):\n",
    "    save_cifar_fit(args, train_datagen)\n"
   ]
  },
  {
   "cell_type": "code",
   "execution_count": 5,
   "metadata": {},
   "outputs": [
    {
     "name": "stdout",
     "output_type": "stream",
     "text": [
      "50000\n"
     ]
    }
   ],
   "source": [
    "import glob\n",
    "\n",
    "IMAGE_COUNT = len(glob.glob(OUTPUT_DIR + '/' + 'train'  + '/*/*'))\n",
    "\n",
    "print(IMAGE_COUNT)"
   ]
  },
  {
   "cell_type": "code",
   "execution_count": 6,
   "metadata": {},
   "outputs": [
    {
     "data": {
      "text/plain": [
       "(50000, 500.0)"
      ]
     },
     "execution_count": 6,
     "metadata": {},
     "output_type": "execute_result"
    }
   ],
   "source": [
    "BATCH_SIZE = 100\n",
    "\n",
    "STEPS_PER_EPOCH = np.ceil((IMAGE_COUNT - IMAGE_COUNT * VALIDATION_SPLIT)/BATCH_SIZE)\n",
    "\n",
    "IMAGE_COUNT, STEPS_PER_EPOCH"
   ]
  },
  {
   "cell_type": "code",
   "execution_count": 7,
   "metadata": {},
   "outputs": [
    {
     "name": "stdout",
     "output_type": "stream",
     "text": [
      "Found 45000 images belonging to 10 classes.\n",
      "Found 5000 images belonging to 10 classes.\n",
      "Found 10000 images belonging to 10 classes.\n"
     ]
    }
   ],
   "source": [
    "TARGET_SIZE = (227, 227)\n",
    "\n",
    "train_generator = train_datagen.flow_from_directory(\n",
    "    OUTPUT_DIR + '/' + 'train', \n",
    "    target_size=TARGET_SIZE,\n",
    "    batch_size=BATCH_SIZE, \n",
    "    class_mode='categorical', \n",
    "    subset='training',\n",
    "    shuffle=True,\n",
    "    seed=42\n",
    ")\n",
    "validation_generator = train_datagen.flow_from_directory(\n",
    "    OUTPUT_DIR + '/' + 'train',\n",
    "    target_size=TARGET_SIZE,\n",
    "    batch_size=BATCH_SIZE,\n",
    "    class_mode='categorical',\n",
    "    subset='validation',\n",
    "    shuffle=True,\n",
    "    seed=42\n",
    ")\n",
    "train_datagen.standardize\n",
    "test_generator = test_datagen.flow_from_directory(\n",
    "    OUTPUT_DIR + '/' + 'test', target_size=TARGET_SIZE)\n",
    "\n",
    "\n"
   ]
  },
  {
   "cell_type": "markdown",
   "metadata": {},
   "source": [
    "Alexnet"
   ]
  },
  {
   "cell_type": "code",
   "execution_count": 8,
   "metadata": {},
   "outputs": [],
   "source": [
    "DefaultAlexConv2D = partial(keras.layers.Conv2D, strides=(4, 4) , activation = tf.nn.relu)\n",
    "DefaultAlexMaxPool2D = partial(keras.layers.MaxPool2D, padding = 'SAME', data_format='channels_last')\n",
    "DefaultBatchNormalize = partial(tf.keras.layers.BatchNormalization)\n",
    "DefaultDropout = partial(tf.keras.layers.Dropout, rate = 0.5)"
   ]
  },
  {
   "cell_type": "code",
   "execution_count": 9,
   "metadata": {},
   "outputs": [],
   "source": [
    "from datetime import datetime\n",
    "\n",
    "date_time = datetime.now().strftime(\"%m_%d_%Y_%H_%M_%S\")\n",
    "\n",
    "alex_net_model = keras.models.Sequential([\n",
    "    DefaultAlexConv2D(filters=96, kernel_size=(11, 11),\n",
    "                      input_shape=(227, 227, 3), padding='VALID'),\n",
    "    DefaultBatchNormalize(),\n",
    "    DefaultAlexMaxPool2D(pool_size=(3, 3)), \n",
    "    DefaultAlexConv2D(filters = 256, kernel_size = (5, 5), padding = 'SAME'),\n",
    "    DefaultBatchNormalize(),\n",
    "    DefaultAlexMaxPool2D(pool_size=(3, 3)), \n",
    "    DefaultAlexConv2D(filters = 384, kernel_size = (3, 3),  padding = 'SAME'),\n",
    "    DefaultBatchNormalize(),\n",
    "    DefaultAlexConv2D(filters = 384, kernel_size = (3, 3),  padding = 'SAME'),\n",
    "    DefaultBatchNormalize(),\n",
    "    DefaultAlexConv2D(filters = 256, kernel_size = (3, 3),  padding = 'SAME'),\n",
    "    keras.layers.Flatten(),\n",
    "    keras.layers.Dense(4096, activation=tf.nn.relu),\n",
    "    DefaultDropout(),\n",
    "    keras.layers.Dense(4096, activation=tf.nn.relu),\n",
    "    DefaultDropout(),\n",
    "    keras.layers.Dense(10, activation=tf.nn.softmax)\n",
    "    ], name=\"alex_net_model_\" + date_time)"
   ]
  },
  {
   "cell_type": "code",
   "execution_count": 10,
   "metadata": {},
   "outputs": [
    {
     "name": "stdout",
     "output_type": "stream",
     "text": [
      "Model: \"alex_net_model_02_02_2022_23_25_34\"\n",
      "_________________________________________________________________\n",
      "Layer (type)                 Output Shape              Param #   \n",
      "=================================================================\n",
      "conv2d (Conv2D)              (None, 55, 55, 96)        34944     \n",
      "_________________________________________________________________\n",
      "batch_normalization (BatchNo (None, 55, 55, 96)        384       \n",
      "_________________________________________________________________\n",
      "max_pooling2d (MaxPooling2D) (None, 19, 19, 96)        0         \n",
      "_________________________________________________________________\n",
      "conv2d_1 (Conv2D)            (None, 5, 5, 256)         614656    \n",
      "_________________________________________________________________\n",
      "batch_normalization_1 (Batch (None, 5, 5, 256)         1024      \n",
      "_________________________________________________________________\n",
      "max_pooling2d_1 (MaxPooling2 (None, 2, 2, 256)         0         \n",
      "_________________________________________________________________\n",
      "conv2d_2 (Conv2D)            (None, 1, 1, 384)         885120    \n",
      "_________________________________________________________________\n",
      "batch_normalization_2 (Batch (None, 1, 1, 384)         1536      \n",
      "_________________________________________________________________\n",
      "conv2d_3 (Conv2D)            (None, 1, 1, 384)         1327488   \n",
      "_________________________________________________________________\n",
      "batch_normalization_3 (Batch (None, 1, 1, 384)         1536      \n",
      "_________________________________________________________________\n",
      "conv2d_4 (Conv2D)            (None, 1, 1, 256)         884992    \n",
      "_________________________________________________________________\n",
      "flatten (Flatten)            (None, 256)               0         \n",
      "_________________________________________________________________\n",
      "dense (Dense)                (None, 4096)              1052672   \n",
      "_________________________________________________________________\n",
      "dropout (Dropout)            (None, 4096)              0         \n",
      "_________________________________________________________________\n",
      "dense_1 (Dense)              (None, 4096)              16781312  \n",
      "_________________________________________________________________\n",
      "dropout_1 (Dropout)          (None, 4096)              0         \n",
      "_________________________________________________________________\n",
      "dense_2 (Dense)              (None, 10)                40970     \n",
      "=================================================================\n",
      "Total params: 21,626,634\n",
      "Trainable params: 21,624,394\n",
      "Non-trainable params: 2,240\n",
      "_________________________________________________________________\n"
     ]
    }
   ],
   "source": [
    "alex_net_model.summary()"
   ]
  },
  {
   "cell_type": "code",
   "execution_count": 11,
   "metadata": {},
   "outputs": [],
   "source": [
    "class myCallback(tf.keras.callbacks.Callback):\n",
    "    def on_epoch_end(self,_,logs={}):\n",
    "        if (logs.get(\"accuracy\")==0.98 and logs.get(\"loss\")<0.03):\n",
    "            print(\"\\nReached 98% accuracy so stopping training\")\n",
    "            self.model.stop_training =True\n",
    "callbacks = myCallback()"
   ]
  },
  {
   "cell_type": "code",
   "execution_count": 12,
   "metadata": {},
   "outputs": [
    {
     "name": "stdout",
     "output_type": "stream",
     "text": [
      "Epoch 1/50\n",
      "500/500 - 84s - loss: 1.6536 - accuracy: 0.3925 - val_loss: 1.5933 - val_accuracy: 0.4222\n",
      "Epoch 2/50\n",
      "500/500 - 64s - loss: 1.4255 - accuracy: 0.4849 - val_loss: 1.3578 - val_accuracy: 0.5156\n",
      "Epoch 3/50\n",
      "500/500 - 64s - loss: 1.3375 - accuracy: 0.5205 - val_loss: 1.3072 - val_accuracy: 0.5350\n",
      "Epoch 4/50\n",
      "500/500 - 65s - loss: 1.2738 - accuracy: 0.5421 - val_loss: 1.3512 - val_accuracy: 0.5294\n",
      "Epoch 5/50\n",
      "500/500 - 64s - loss: 1.2396 - accuracy: 0.5573 - val_loss: 1.1839 - val_accuracy: 0.5814\n",
      "Epoch 6/50\n",
      "500/500 - 64s - loss: 1.1940 - accuracy: 0.5739 - val_loss: 1.1846 - val_accuracy: 0.5792\n",
      "Epoch 7/50\n",
      "500/500 - 65s - loss: 1.1630 - accuracy: 0.5830 - val_loss: 1.1934 - val_accuracy: 0.5672\n",
      "Epoch 8/50\n",
      "500/500 - 65s - loss: 1.1316 - accuracy: 0.5980 - val_loss: 1.1081 - val_accuracy: 0.6082\n",
      "Epoch 9/50\n",
      "500/500 - 65s - loss: 1.1156 - accuracy: 0.6008 - val_loss: 1.1699 - val_accuracy: 0.5912\n",
      "Epoch 10/50\n",
      "500/500 - 65s - loss: 1.1016 - accuracy: 0.6077 - val_loss: 1.1145 - val_accuracy: 0.6058\n",
      "Epoch 11/50\n",
      "500/500 - 65s - loss: 1.0770 - accuracy: 0.6169 - val_loss: 1.0832 - val_accuracy: 0.6200\n",
      "Epoch 12/50\n",
      "500/500 - 65s - loss: 1.0581 - accuracy: 0.6277 - val_loss: 1.1402 - val_accuracy: 0.5980\n",
      "Epoch 13/50\n",
      "500/500 - 65s - loss: 1.0488 - accuracy: 0.6284 - val_loss: 1.0626 - val_accuracy: 0.6344\n",
      "Epoch 14/50\n",
      "500/500 - 65s - loss: 1.0374 - accuracy: 0.6326 - val_loss: 1.0196 - val_accuracy: 0.6468\n",
      "Epoch 15/50\n",
      "500/500 - 65s - loss: 1.0257 - accuracy: 0.6374 - val_loss: 1.0266 - val_accuracy: 0.6430\n",
      "Epoch 16/50\n",
      "500/500 - 65s - loss: 1.0104 - accuracy: 0.6447 - val_loss: 1.0290 - val_accuracy: 0.6434\n",
      "Epoch 17/50\n",
      "500/500 - 65s - loss: 1.0074 - accuracy: 0.6462 - val_loss: 1.0507 - val_accuracy: 0.6384\n",
      "Epoch 18/50\n",
      "500/500 - 65s - loss: 0.9975 - accuracy: 0.6495 - val_loss: 1.0240 - val_accuracy: 0.6362\n",
      "Epoch 19/50\n",
      "500/500 - 65s - loss: 0.9829 - accuracy: 0.6558 - val_loss: 1.0625 - val_accuracy: 0.6394\n",
      "Epoch 20/50\n",
      "500/500 - 65s - loss: 0.9829 - accuracy: 0.6576 - val_loss: 1.0114 - val_accuracy: 0.6440\n",
      "Epoch 21/50\n",
      "500/500 - 64s - loss: 0.9733 - accuracy: 0.6618 - val_loss: 1.0047 - val_accuracy: 0.6492\n",
      "Epoch 22/50\n",
      "500/500 - 64s - loss: 0.9616 - accuracy: 0.6676 - val_loss: 1.0483 - val_accuracy: 0.6302\n",
      "Epoch 23/50\n",
      "500/500 - 65s - loss: 0.9543 - accuracy: 0.6673 - val_loss: 0.9907 - val_accuracy: 0.6524\n",
      "Epoch 24/50\n",
      "500/500 - 65s - loss: 0.9573 - accuracy: 0.6678 - val_loss: 0.9909 - val_accuracy: 0.6514\n",
      "Epoch 25/50\n",
      "500/500 - 65s - loss: 0.9500 - accuracy: 0.6693 - val_loss: 1.0208 - val_accuracy: 0.6426\n",
      "Epoch 26/50\n",
      "500/500 - 65s - loss: 0.9420 - accuracy: 0.6719 - val_loss: 1.0185 - val_accuracy: 0.6532\n",
      "Epoch 27/50\n",
      "500/500 - 64s - loss: 0.9356 - accuracy: 0.6756 - val_loss: 0.9253 - val_accuracy: 0.6776\n",
      "Epoch 28/50\n",
      "500/500 - 64s - loss: 0.9243 - accuracy: 0.6775 - val_loss: 1.0296 - val_accuracy: 0.6510\n",
      "Epoch 29/50\n",
      "500/500 - 65s - loss: 0.9221 - accuracy: 0.6802 - val_loss: 0.9624 - val_accuracy: 0.6624\n",
      "Epoch 30/50\n",
      "500/500 - 65s - loss: 0.9258 - accuracy: 0.6801 - val_loss: 0.9559 - val_accuracy: 0.6728\n",
      "Epoch 31/50\n",
      "500/500 - 65s - loss: 0.9172 - accuracy: 0.6832 - val_loss: 0.9583 - val_accuracy: 0.6744\n",
      "Epoch 32/50\n",
      "500/500 - 65s - loss: 0.9160 - accuracy: 0.6861 - val_loss: 0.9576 - val_accuracy: 0.6750\n",
      "Epoch 33/50\n",
      "500/500 - 66s - loss: 0.9141 - accuracy: 0.6867 - val_loss: 0.9458 - val_accuracy: 0.6826\n",
      "Epoch 34/50\n",
      "500/500 - 65s - loss: 0.9059 - accuracy: 0.6865 - val_loss: 0.9385 - val_accuracy: 0.6768\n",
      "Epoch 35/50\n",
      "500/500 - 64s - loss: 0.8960 - accuracy: 0.6945 - val_loss: 0.9684 - val_accuracy: 0.6630\n",
      "Epoch 36/50\n",
      "500/500 - 65s - loss: 0.9016 - accuracy: 0.6906 - val_loss: 1.0561 - val_accuracy: 0.6580\n",
      "Epoch 37/50\n",
      "500/500 - 65s - loss: 0.9045 - accuracy: 0.6906 - val_loss: 1.0123 - val_accuracy: 0.6698\n",
      "Epoch 38/50\n",
      "500/500 - 65s - loss: 0.9038 - accuracy: 0.6888 - val_loss: 0.9663 - val_accuracy: 0.6718\n",
      "Epoch 39/50\n",
      "500/500 - 65s - loss: 0.8989 - accuracy: 0.6929 - val_loss: 0.9610 - val_accuracy: 0.6748\n",
      "Epoch 40/50\n",
      "500/500 - 64s - loss: 0.8881 - accuracy: 0.6976 - val_loss: 0.9654 - val_accuracy: 0.6736\n",
      "Epoch 41/50\n",
      "500/500 - 65s - loss: 0.9016 - accuracy: 0.6970 - val_loss: 0.9456 - val_accuracy: 0.6868\n",
      "Epoch 42/50\n",
      "500/500 - 64s - loss: 0.8939 - accuracy: 0.6960 - val_loss: 0.9927 - val_accuracy: 0.6722\n",
      "Epoch 43/50\n",
      "500/500 - 65s - loss: 0.9044 - accuracy: 0.6951 - val_loss: 0.9716 - val_accuracy: 0.6766\n",
      "Epoch 44/50\n",
      "500/500 - 65s - loss: 0.9006 - accuracy: 0.6940 - val_loss: 0.9433 - val_accuracy: 0.6754\n",
      "Epoch 45/50\n",
      "500/500 - 65s - loss: 0.8936 - accuracy: 0.6961 - val_loss: 0.9276 - val_accuracy: 0.6870\n",
      "Epoch 46/50\n",
      "500/500 - 64s - loss: 0.8912 - accuracy: 0.7000 - val_loss: 0.9177 - val_accuracy: 0.6906\n",
      "Epoch 47/50\n",
      "500/500 - 64s - loss: 0.8922 - accuracy: 0.6990 - val_loss: 1.0040 - val_accuracy: 0.6846\n",
      "Epoch 48/50\n",
      "500/500 - 64s - loss: 0.8962 - accuracy: 0.6977 - val_loss: 1.0149 - val_accuracy: 0.6694\n",
      "Epoch 49/50\n",
      "500/500 - 64s - loss: 0.9004 - accuracy: 0.6989 - val_loss: 0.9759 - val_accuracy: 0.6806\n",
      "Epoch 50/50\n",
      "500/500 - 65s - loss: 0.9000 - accuracy: 0.6963 - val_loss: 0.9344 - val_accuracy: 0.6890\n"
     ]
    }
   ],
   "source": [
    "alex_net_model.compile(loss=tf.losses.CategoricalCrossentropy(), metrics=[\n",
    "                       'accuracy'], optimizer=tf.optimizers.Adam(learning_rate=0.0001))\n",
    "\n",
    "history = alex_net_model.fit(train_generator,validation_data=validation_generator,\n",
    "    callbacks=[callbacks], verbose=2, workers=16, \n",
    "    epochs=50, steps_per_epoch=STEPS_PER_EPOCH)\n"
   ]
  },
  {
   "cell_type": "code",
   "execution_count": 13,
   "metadata": {},
   "outputs": [
    {
     "name": "stdout",
     "output_type": "stream",
     "text": [
      "313/313 - 6s - loss: 67581.9453 - accuracy: 0.1000\n"
     ]
    }
   ],
   "source": [
    "score = alex_net_model.evaluate(test_generator, workers=16,verbose=2)"
   ]
  },
  {
   "cell_type": "code",
   "execution_count": 14,
   "metadata": {},
   "outputs": [
    {
     "name": "stdout",
     "output_type": "stream",
     "text": [
      "Training accuracy:  0.6962599754333496\n",
      "Training loss:  0.8999549150466919\n",
      "Validation accuracy:  0.6890000104904175\n",
      "Validation loss:  0.9343875050544739\n"
     ]
    },
    {
     "data": {
      "image/png": "[encoded data removed]",
      "text/plain": [
       "<Figure size 432x288 with 1 Axes>"
      ]
     },
     "metadata": {
      "needs_background": "light"
     },
     "output_type": "display_data"
    },
    {
     "data": {
      "image/png": "[encoded data removed]",
      "text/plain": [
       "<Figure size 432x288 with 1 Axes>"
      ]
     },
     "metadata": {
      "needs_background": "light"
     },
     "output_type": "display_data"
    }
   ],
   "source": [
    "\n",
    "acc = history.history['accuracy'][-1]\n",
    "val_acc = history.history['val_accuracy'][-1]\n",
    "loss = history.history['loss'][-1]\n",
    "val_loss = history.history['val_loss'][-1]\n",
    "\n",
    "print(\"Training accuracy: \", acc)\n",
    "print(\"Training loss: \", loss)\n",
    "\n",
    "print(\"Validation accuracy: \", val_acc)\n",
    "print(\"Validation loss: \", val_loss)\n",
    "\n",
    "# Plotting the graphs to visualize the trend of accuracy and loss\n",
    "\n",
    "epochs = range(1, len(history.history['accuracy'])+1)\n",
    "\n",
    "plt.plot(epochs, history.history['accuracy'], 'bo', label='Training acc')\n",
    "plt.plot(epochs, history.history['val_accuracy'], 'b', label='Validation acc')\n",
    "plt.title('Training and validation accuracy')\n",
    "plt.legend()\n",
    "\n",
    "plt.figure()\n",
    "\n",
    "plt.plot(epochs, history.history['loss'], 'bo', label='Training loss')\n",
    "plt.plot(epochs, history.history['val_loss'], 'b', label='Validation loss')\n",
    "plt.title('Training and validation loss')\n",
    "plt.legend()\n",
    "\n",
    "plt.show()"
   ]
  },
  {
   "cell_type": "code",
   "execution_count": 15,
   "metadata": {},
   "outputs": [],
   "source": [
    "alex_net_model.save('alex_net_model_' + date_time + '.h5')\n"
   ]
  }
 ],
 "metadata": {
  "interpreter": {
   "hash": "360eb45faca1e4dfefc4f13aa9499776008d91528b4d443d812d58097d713eb4"
  },
  "kernelspec": {
   "display_name": "Python 3.7.9 64-bit ('d2l': venv)",
   "language": "python",
   "name": "python3"
  },
  "language_info": {
   "codemirror_mode": {
    "name": "ipython",
    "version": 3
   },
   "file_extension": ".py",
   "mimetype": "text/x-python",
   "name": "python",
   "nbconvert_exporter": "python",
   "pygments_lexer": "ipython3",
   "version": "3.7.9"
  },
  "orig_nbformat": 4
 },
 "nbformat": 4,
 "nbformat_minor": 2
}
