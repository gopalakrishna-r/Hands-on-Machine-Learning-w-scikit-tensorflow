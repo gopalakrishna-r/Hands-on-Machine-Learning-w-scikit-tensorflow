{
 "cells": [
  {
   "cell_type": "code",
   "execution_count": 1,
   "metadata": {},
   "outputs": [],
   "source": [
    "import matplotlib.pyplot as plt\n",
    "import numpy as np\n",
    "import tensorflow as tf\n",
    "import tensorflow.keras as keras \n",
    "import tensorflow.keras.utils as utils\n",
    "from tensorflow.keras.preprocessing.image import ImageDataGenerator\n",
    "%load_ext tensorboard\n",
    "import easydict\n",
    "\n",
    "%matplotlib inline\n",
    "\n"
   ]
  },
  {
   "cell_type": "code",
   "execution_count": 3,
   "metadata": {},
   "outputs": [],
   "source": [
    "gpus = tf.config.experimental.list_physical_devices('GPU')\n",
    "\n",
    "\n",
    "tf.config.experimental.set_virtual_device_configuration(\n",
    "    gpus[0], [tf.config.experimental.VirtualDeviceConfiguration(memory_limit=10444)])\n"
   ]
  },
  {
   "cell_type": "code",
   "execution_count": 4,
   "metadata": {},
   "outputs": [],
   "source": [
    "cifar_train, cifar_test = tf.keras.datasets.cifar10.load_data()\n",
    "(x_train, y_train), (x_test, y_test) = cifar_train, cifar_test"
   ]
  },
  {
   "cell_type": "code",
   "execution_count": 5,
   "metadata": {},
   "outputs": [],
   "source": [
    "y_train = utils.to_categorical(y_train, 10)\n",
    "y_test = utils.to_categorical(y_test, 10)\n"
   ]
  },
  {
   "cell_type": "code",
   "execution_count": 6,
   "metadata": {},
   "outputs": [],
   "source": [
    "TARGET_SIZE_H, TARGET_SIZE_W = (224, 224)\n"
   ]
  },
  {
   "cell_type": "code",
   "execution_count": 7,
   "metadata": {},
   "outputs": [],
   "source": [
    "VALIDATION_SPLIT = 0.1\n",
    "\n",
    "train_datagen = ImageDataGenerator(\n",
    "    featurewise_center=True, \n",
    "    samplewise_center=False,\n",
    "    featurewise_std_normalization=True, \n",
    "    samplewise_std_normalization=False,\n",
    "    zca_whitening=False,\n",
    "    zca_epsilon=1e-06,\n",
    "    rescale= 1./255, \n",
    "    rotation_range=40, \n",
    "    width_shift_range=0.2, \n",
    "    height_shift_range= 0.2, \n",
    "    horizontal_flip=True, \n",
    "    fill_mode='nearest', \n",
    "    validation_split=VALIDATION_SPLIT\n",
    ")\n",
    "\n",
    "test_datagen = ImageDataGenerator(\n",
    "    featurewise_center=True,\n",
    "    samplewise_center=False,\n",
    "    featurewise_std_normalization=True,\n",
    "    samplewise_std_normalization=False,\n",
    "    zca_whitening=False,\n",
    "    zca_epsilon=1e-06,\n",
    "    rescale=1./255,\n",
    "    rotation_range=40,\n",
    "    width_shift_range=0.2,\n",
    "    height_shift_range=0.2,\n",
    "    shear_range=0.2,\n",
    "    zoom_range=0.2,\n",
    "    horizontal_flip=True,\n",
    "    fill_mode='nearest'\n",
    ")"
   ]
  },
  {
   "cell_type": "code",
   "execution_count": 8,
   "metadata": {},
   "outputs": [],
   "source": [
    "train_datagen.fit(x_train)\n",
    "test_datagen.fit(x_train)\n"
   ]
  },
  {
   "cell_type": "code",
   "execution_count": 9,
   "metadata": {},
   "outputs": [
    {
     "data": {
      "text/plain": [
       "(50000, 2250.0)"
      ]
     },
     "execution_count": 9,
     "metadata": {},
     "output_type": "execute_result"
    }
   ],
   "source": [
    "IMAGE_COUNT = len(x_train)\n",
    "BATCH_SIZE = 20\n",
    "STEPS_PER_EPOCH = np.ceil((IMAGE_COUNT - IMAGE_COUNT * VALIDATION_SPLIT)/BATCH_SIZE)\n",
    "IMAGE_COUNT, STEPS_PER_EPOCH"
   ]
  },
  {
   "cell_type": "code",
   "execution_count": 10,
   "metadata": {},
   "outputs": [],
   "source": [
    "train_generator = train_datagen.flow(x_train, y_train,\n",
    "    batch_size=BATCH_SIZE, \n",
    "    subset='training',\n",
    "    shuffle=True,\n",
    "    seed=42\n",
    ")\n",
    "validation_generator = train_datagen.flow(x_train, y_train,\n",
    "    batch_size=BATCH_SIZE,\n",
    "    subset='validation',\n",
    "    shuffle=True,\n",
    "    seed=42\n",
    ")"
   ]
  },
  {
   "cell_type": "markdown",
   "metadata": {},
   "source": [
    "residual net"
   ]
  },
  {
   "cell_type": "code",
   "execution_count": 11,
   "metadata": {},
   "outputs": [],
   "source": [
    "from ResidualNet import ResidualNet, DefaultConv2D\n",
    "from datetime import datetime\n",
    "import keras_tuner as kt\n",
    "from keras_tuner import HyperParameters as hp\n",
    "date_time = datetime.now().strftime(\"%m_%d_%Y_%H_%M_%S\")\n",
    "\n",
    "def net_fn():\n",
    "    # with strategy.scope():\n",
    "    model = keras.Sequential(name=f'Residual_Net_{date_time}')\n",
    "    model.add(tf.keras.layers.Lambda(\n",
    "        lambda image: tf.image.resize(image, (TARGET_SIZE_H, TARGET_SIZE_W))))\n",
    "    model.add(DefaultConv2D(64, kernel_size=7,\n",
    "                            input_shape=(TARGET_SIZE_H, TARGET_SIZE_W, 3)))\n",
    "    model.add(keras.layers.BatchNormalization())\n",
    "    model.add(keras.layers.Activation(tf.nn.relu))\n",
    "    model.add(keras.layers.MaxPool2D(\n",
    "          pool_size=(3, 3), strides=(2, 2), padding='same'))\n",
    "    prev_filters = 64\n",
    "    for filters in [64] * 3 + [128] * 4 + [256] * 6 + [512] * 3:\n",
    "            strides = 1 if filters == prev_filters else 2\n",
    "            model.add(ResidualNet(filters, strides=strides))\n",
    "            prev_filters = filters\n",
    "    model.add(keras.layers.GlobalAveragePooling2D())\n",
    "    model.add(keras.layers.Flatten())\n",
    "    model.add(keras.layers.Dense(10, activation='softmax'))\n",
    "\n",
    "    lr_schedule = keras.optimizers.schedules.ExponentialDecay(\n",
    "    initial_learning_rate=1e-2,\n",
    "    decay_steps=10000,\n",
    "    decay_rate=0.9)\n",
    "    optimizer = tf.keras.optimizers.Adam(learning_rate=lr_schedule)\n",
    "\n",
    "    loss = tf.keras.losses.CategoricalCrossentropy()\n",
    "\n",
    "    model.compile(loss=loss, metrics=['accuracy'], optimizer=optimizer)\n",
    "   \n",
    "    return model"
   ]
  },
  {
   "cell_type": "code",
   "execution_count": 12,
   "metadata": {},
   "outputs": [
    {
     "name": "stdout",
     "output_type": "stream",
     "text": [
      "Epoch 1/50\n",
      "2250/2250 - 469s - loss: 1.9990 - accuracy: 0.2564 - val_loss: 1.7125 - val_accuracy: 0.3604\n",
      "Epoch 2/50\n",
      "2250/2250 - 474s - loss: 1.5520 - accuracy: 0.4373 - val_loss: 1.4376 - val_accuracy: 0.4960\n",
      "Epoch 3/50\n",
      "2250/2250 - 472s - loss: 1.2526 - accuracy: 0.5526 - val_loss: 1.2864 - val_accuracy: 0.5550\n",
      "Epoch 4/50\n",
      "2250/2250 - 480s - loss: 1.0597 - accuracy: 0.6291 - val_loss: 1.1060 - val_accuracy: 0.6118\n",
      "Epoch 5/50\n",
      "2250/2250 - 478s - loss: 0.9249 - accuracy: 0.6775 - val_loss: 0.9717 - val_accuracy: 0.6572\n",
      "Epoch 6/50\n",
      "2250/2250 - 499s - loss: 0.8241 - accuracy: 0.7143 - val_loss: 0.8553 - val_accuracy: 0.7066\n",
      "Epoch 7/50\n",
      "2250/2250 - 482s - loss: 0.7424 - accuracy: 0.7426 - val_loss: 0.7189 - val_accuracy: 0.7516\n",
      "Epoch 8/50\n",
      "2250/2250 - 475s - loss: 0.6768 - accuracy: 0.7667 - val_loss: 0.6494 - val_accuracy: 0.7730\n",
      "Epoch 9/50\n",
      "2250/2250 - 476s - loss: 0.6207 - accuracy: 0.7854 - val_loss: 0.5953 - val_accuracy: 0.8000\n",
      "Epoch 10/50\n",
      "2250/2250 - 471s - loss: 0.5818 - accuracy: 0.7982 - val_loss: 0.5823 - val_accuracy: 0.8044\n",
      "Epoch 11/50\n",
      "2250/2250 - 475s - loss: 0.5360 - accuracy: 0.8150 - val_loss: 0.5798 - val_accuracy: 0.8032\n",
      "Epoch 12/50\n",
      "2250/2250 - 468s - loss: 0.5027 - accuracy: 0.8260 - val_loss: 0.5500 - val_accuracy: 0.8104\n",
      "Epoch 13/50\n",
      "2250/2250 - 470s - loss: 0.4718 - accuracy: 0.8371 - val_loss: 0.5756 - val_accuracy: 0.8154\n",
      "Epoch 14/50\n",
      "2250/2250 - 461s - loss: 0.4443 - accuracy: 0.8448 - val_loss: 0.4815 - val_accuracy: 0.8372\n",
      "Epoch 15/50\n",
      "2250/2250 - 461s - loss: 0.4164 - accuracy: 0.8578 - val_loss: 0.4698 - val_accuracy: 0.8384\n",
      "Epoch 16/50\n",
      "2250/2250 - 461s - loss: 0.3978 - accuracy: 0.8631 - val_loss: 0.5255 - val_accuracy: 0.8256\n",
      "Epoch 17/50\n",
      "2250/2250 - 457s - loss: 0.3764 - accuracy: 0.8684 - val_loss: 0.4579 - val_accuracy: 0.8460\n",
      "Epoch 18/50\n",
      "2250/2250 - 464s - loss: 0.3571 - accuracy: 0.8762 - val_loss: 0.4552 - val_accuracy: 0.8458\n",
      "Epoch 19/50\n",
      "2250/2250 - 470s - loss: 0.3462 - accuracy: 0.8789 - val_loss: 0.4170 - val_accuracy: 0.8682\n",
      "Epoch 20/50\n",
      "2250/2250 - 461s - loss: 0.3298 - accuracy: 0.8867 - val_loss: 0.4466 - val_accuracy: 0.8526\n",
      "Epoch 21/50\n",
      "2250/2250 - 458s - loss: 0.3125 - accuracy: 0.8925 - val_loss: 0.3992 - val_accuracy: 0.8700\n",
      "Epoch 22/50\n",
      "2250/2250 - 459s - loss: 0.2978 - accuracy: 0.8961 - val_loss: 0.3964 - val_accuracy: 0.8696\n",
      "Epoch 23/50\n",
      "2250/2250 - 462s - loss: 0.2870 - accuracy: 0.9005 - val_loss: 0.4123 - val_accuracy: 0.8640\n",
      "Epoch 24/50\n",
      "2250/2250 - 449s - loss: 0.2733 - accuracy: 0.9050 - val_loss: 0.3889 - val_accuracy: 0.8696\n",
      "Epoch 25/50\n",
      "2250/2250 - 450s - loss: 0.2632 - accuracy: 0.9074 - val_loss: 0.3621 - val_accuracy: 0.8798\n",
      "Epoch 26/50\n",
      "2250/2250 - 449s - loss: 0.2468 - accuracy: 0.9127 - val_loss: 0.4420 - val_accuracy: 0.8640\n",
      "Epoch 27/50\n",
      "2250/2250 - 460s - loss: 0.2453 - accuracy: 0.9137 - val_loss: 0.3418 - val_accuracy: 0.8838\n",
      "Epoch 28/50\n",
      "2250/2250 - 455s - loss: 0.2360 - accuracy: 0.9192 - val_loss: 0.3563 - val_accuracy: 0.8834\n",
      "Epoch 29/50\n",
      "2250/2250 - 449s - loss: 0.2231 - accuracy: 0.9224 - val_loss: 0.3528 - val_accuracy: 0.8808\n",
      "Epoch 30/50\n",
      "2250/2250 - 456s - loss: 0.2120 - accuracy: 0.9260 - val_loss: 0.3351 - val_accuracy: 0.8892\n",
      "Epoch 31/50\n",
      "2250/2250 - 450s - loss: 0.2085 - accuracy: 0.9273 - val_loss: 0.3360 - val_accuracy: 0.8936\n",
      "Epoch 32/50\n",
      "2250/2250 - 457s - loss: 0.1944 - accuracy: 0.9322 - val_loss: 0.3440 - val_accuracy: 0.8934\n",
      "Epoch 33/50\n",
      "2250/2250 - 448s - loss: 0.1920 - accuracy: 0.9331 - val_loss: 0.3512 - val_accuracy: 0.8900\n",
      "Epoch 34/50\n",
      "2250/2250 - 464s - loss: 0.1834 - accuracy: 0.9355 - val_loss: 0.3870 - val_accuracy: 0.8848\n",
      "Epoch 35/50\n",
      "2250/2250 - 474s - loss: 0.1772 - accuracy: 0.9381 - val_loss: 0.3637 - val_accuracy: 0.8880\n",
      "Epoch 36/50\n",
      "2250/2250 - 465s - loss: 0.1715 - accuracy: 0.9399 - val_loss: 0.3278 - val_accuracy: 0.8956\n",
      "Epoch 37/50\n",
      "2250/2250 - 472s - loss: 0.1645 - accuracy: 0.9429 - val_loss: 0.3587 - val_accuracy: 0.8924\n",
      "Epoch 38/50\n",
      "2250/2250 - 472s - loss: 0.1582 - accuracy: 0.9447 - val_loss: 0.3160 - val_accuracy: 0.8992\n",
      "Epoch 39/50\n",
      "2250/2250 - 468s - loss: 0.1541 - accuracy: 0.9459 - val_loss: 0.3386 - val_accuracy: 0.8944\n",
      "Epoch 40/50\n",
      "2250/2250 - 458s - loss: 0.1495 - accuracy: 0.9478 - val_loss: 0.3163 - val_accuracy: 0.9014\n",
      "Epoch 41/50\n",
      "2250/2250 - 456s - loss: 0.1434 - accuracy: 0.9495 - val_loss: 0.3351 - val_accuracy: 0.9010\n",
      "Epoch 42/50\n",
      "2250/2250 - 457s - loss: 0.1353 - accuracy: 0.9521 - val_loss: 0.3416 - val_accuracy: 0.8996\n",
      "Epoch 43/50\n",
      "2250/2250 - 456s - loss: 0.1326 - accuracy: 0.9530 - val_loss: 0.3493 - val_accuracy: 0.8876\n",
      "Epoch 44/50\n",
      "2250/2250 - 456s - loss: 0.1305 - accuracy: 0.9548 - val_loss: 0.3349 - val_accuracy: 0.8992\n",
      "Epoch 45/50\n",
      "2250/2250 - 448s - loss: 0.1213 - accuracy: 0.9572 - val_loss: 0.3075 - val_accuracy: 0.9072\n",
      "Epoch 46/50\n",
      "2250/2250 - 451s - loss: 0.1203 - accuracy: 0.9576 - val_loss: 0.3374 - val_accuracy: 0.8982\n",
      "Epoch 47/50\n",
      "2250/2250 - 453s - loss: 0.1107 - accuracy: 0.9614 - val_loss: 0.3371 - val_accuracy: 0.9054\n",
      "Epoch 48/50\n",
      "2250/2250 - 454s - loss: 0.1095 - accuracy: 0.9627 - val_loss: 0.3351 - val_accuracy: 0.8976\n",
      "Epoch 49/50\n",
      "2250/2250 - 450s - loss: 0.1127 - accuracy: 0.9602 - val_loss: 0.2996 - val_accuracy: 0.9098\n",
      "Epoch 50/50\n",
      "2250/2250 - 454s - loss: 0.1033 - accuracy: 0.9640 - val_loss: 0.3247 - val_accuracy: 0.9066\n"
     ]
    }
   ],
   "source": [
    "net = net_fn()\n",
    "history = net.fit(train_generator, validation_data=validation_generator,\n",
    "                      verbose=2, workers=6, epochs=50, steps_per_epoch=STEPS_PER_EPOCH)\n"
   ]
  },
  {
   "cell_type": "code",
   "execution_count": 13,
   "metadata": {},
   "outputs": [],
   "source": [
    "test_generator = test_datagen.flow(x_test, y_test)"
   ]
  },
  {
   "cell_type": "code",
   "execution_count": 14,
   "metadata": {},
   "outputs": [
    {
     "name": "stdout",
     "output_type": "stream",
     "text": [
      "313/313 - 25s - loss: 0.3994 - accuracy: 0.8833\n"
     ]
    }
   ],
   "source": [
    "score = net.evaluate(test_generator, workers=8,verbose=2)"
   ]
  },
  {
   "cell_type": "code",
   "execution_count": 15,
   "metadata": {},
   "outputs": [
    {
     "name": "stdout",
     "output_type": "stream",
     "text": [
      "Training accuracy:  0.9639777541160583\n",
      "Training loss:  0.10332419723272324\n",
      "Validation accuracy:  0.9065999984741211\n",
      "Validation loss:  0.3246690332889557\n"
     ]
    },
    {
     "data": {
      "image/png": "[encoded data removed]",
      "text/plain": [
       "<Figure size 432x288 with 1 Axes>"
      ]
     },
     "metadata": {
      "needs_background": "light"
     },
     "output_type": "display_data"
    },
    {
     "data": {
      "image/png": "[encoded data removed]",
      "text/plain": [
       "<Figure size 432x288 with 1 Axes>"
      ]
     },
     "metadata": {
      "needs_background": "light"
     },
     "output_type": "display_data"
    }
   ],
   "source": [
    "\n",
    "acc = history.history['accuracy'][-1]\n",
    "val_acc = history.history['val_accuracy'][-1]\n",
    "loss = history.history['loss'][-1]\n",
    "val_loss = history.history['val_loss'][-1]\n",
    "\n",
    "print(\"Training accuracy: \", acc)\n",
    "print(\"Training loss: \", loss)\n",
    "\n",
    "print(\"Validation accuracy: \", val_acc)\n",
    "print(\"Validation loss: \", val_loss)\n",
    "\n",
    "# Plotting the graphs to visualize the trend of accuracy and loss\n",
    "\n",
    "epochs = range(1, len(history.history['accuracy'])+1)\n",
    "\n",
    "plt.plot(epochs, history.history['accuracy'], 'bo', label='Training acc')\n",
    "plt.plot(epochs, history.history['val_accuracy'], 'b', label='Validation acc')\n",
    "plt.title('Training and validation accuracy')\n",
    "plt.legend()\n",
    "\n",
    "plt.figure()\n",
    "\n",
    "plt.plot(epochs, history.history['loss'], 'bo', label='Training loss')\n",
    "plt.plot(epochs, history.history['val_loss'], 'b', label='Validation loss')\n",
    "plt.title('Training and validation loss')\n",
    "plt.legend()\n",
    "\n",
    "plt.show()"
   ]
  }
 ],
 "metadata": {
  "interpreter": {
   "hash": "360eb45faca1e4dfefc4f13aa9499776008d91528b4d443d812d58097d713eb4"
  },
  "kernelspec": {
   "display_name": "Python 3.7.9 64-bit ('d2l': venv)",
   "language": "python",
   "name": "python3"
  },
  "language_info": {
   "codemirror_mode": {
    "name": "ipython",
    "version": 3
   },
   "file_extension": ".py",
   "mimetype": "text/x-python",
   "name": "python",
   "nbconvert_exporter": "python",
   "pygments_lexer": "ipython3",
   "version": "3.7.9"
  },
  "orig_nbformat": 4
 },
 "nbformat": 4,
 "nbformat_minor": 2
}
