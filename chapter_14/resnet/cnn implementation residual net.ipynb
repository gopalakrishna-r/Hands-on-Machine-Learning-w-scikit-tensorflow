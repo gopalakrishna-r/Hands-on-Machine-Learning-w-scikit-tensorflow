{
 "cells": [
  {
   "cell_type": "code",
   "execution_count": 1,
   "metadata": {},
   "outputs": [],
   "source": [
    "import matplotlib.pyplot as plt\n",
    "import numpy as np\n",
    "import tensorflow as tf\n",
    "import tensorflow.keras as keras \n",
    "import tensorflow.keras.utils as utils\n",
    "from tensorflow.keras.preprocessing.image import ImageDataGenerator\n",
    "%load_ext tensorboard\n",
    "import easydict\n",
    "\n",
    "%matplotlib inline\n",
    "\n"
   ]
  },
  {
   "cell_type": "code",
   "execution_count": 2,
   "metadata": {},
   "outputs": [
    {
     "data": {
      "text/plain": [
       "[PhysicalDevice(name='/physical_device:GPU:0', device_type='GPU')]"
      ]
     },
     "execution_count": 2,
     "metadata": {},
     "output_type": "execute_result"
    }
   ],
   "source": [
    "tf.config.list_physical_devices('GPU')\n"
   ]
  },
  {
   "cell_type": "code",
   "execution_count": 3,
   "metadata": {},
   "outputs": [
    {
     "name": "stdout",
     "output_type": "stream",
     "text": [
      "1 Physical GPUs, 1 Logical GPUs\n"
     ]
    }
   ],
   "source": [
    "keras.backend.clear_session()\n",
    "tf.random.set_seed(42)\n",
    "np.random.seed(42)\n",
    "\n",
    "gpus = tf.config.list_physical_devices('GPU')\n",
    "if gpus:\n",
    "  try:\n",
    "    # Currently, memory growth needs to be the same across GPUs\n",
    "    for gpu in gpus:\n",
    "      tf.config.experimental.set_memory_growth(gpu, True)\n",
    "    logical_gpus = tf.config.list_logical_devices('GPU')\n",
    "    print(len(gpus), \"Physical GPUs,\", len(logical_gpus), \"Logical GPUs\")\n",
    "  except RuntimeError as e:\n",
    "    # Memory growth must be set before GPUs have been initialized\n",
    "    print(e)\n",
    "    "
   ]
  },
  {
   "cell_type": "code",
   "execution_count": 4,
   "metadata": {},
   "outputs": [],
   "source": [
    "cifar_train, cifar_test = tf.keras.datasets.cifar10.load_data()\n",
    "(x_train, y_train), (x_test, y_test) = cifar_train, cifar_test"
   ]
  },
  {
   "cell_type": "code",
   "execution_count": 5,
   "metadata": {},
   "outputs": [],
   "source": [
    "y_train = utils.to_categorical(y_train, 10)\n",
    "y_test = utils.to_categorical(y_test, 10)\n"
   ]
  },
  {
   "cell_type": "code",
   "execution_count": 6,
   "metadata": {},
   "outputs": [],
   "source": [
    "TARGET_SIZE_H, TARGET_SIZE_W = (224, 224)\n"
   ]
  },
  {
   "cell_type": "code",
   "execution_count": 7,
   "metadata": {},
   "outputs": [],
   "source": [
    "VALIDATION_SPLIT = 0.1\n",
    "\n",
    "train_datagen = ImageDataGenerator(\n",
    "    featurewise_center=True, \n",
    "    samplewise_center=False,\n",
    "    featurewise_std_normalization=True, \n",
    "    samplewise_std_normalization=False,\n",
    "    zca_whitening=False,\n",
    "    zca_epsilon=1e-06,\n",
    "    rescale= 1./255, \n",
    "    rotation_range=40, \n",
    "    width_shift_range=0.2, \n",
    "    height_shift_range= 0.2, \n",
    "    horizontal_flip=True, \n",
    "    fill_mode='nearest', \n",
    "    validation_split=VALIDATION_SPLIT\n",
    ")\n",
    "\n",
    "test_datagen = ImageDataGenerator(\n",
    "    featurewise_center=True,\n",
    "    samplewise_center=False,\n",
    "    featurewise_std_normalization=True,\n",
    "    samplewise_std_normalization=False,\n",
    "    zca_whitening=False,\n",
    "    zca_epsilon=1e-06,\n",
    "    rescale=1./255,\n",
    "    rotation_range=40,\n",
    "    width_shift_range=0.2,\n",
    "    height_shift_range=0.2,\n",
    "    shear_range=0.2,\n",
    "    zoom_range=0.2,\n",
    "    horizontal_flip=True,\n",
    "    fill_mode='nearest'\n",
    ")"
   ]
  },
  {
   "cell_type": "code",
   "execution_count": 8,
   "metadata": {},
   "outputs": [],
   "source": [
    "train_datagen.fit(x_train)\n",
    "test_datagen.fit(x_train)\n"
   ]
  },
  {
   "cell_type": "code",
   "execution_count": 9,
   "metadata": {},
   "outputs": [
    {
     "data": {
      "text/plain": [
       "(50000, 2250.0)"
      ]
     },
     "execution_count": 9,
     "metadata": {},
     "output_type": "execute_result"
    }
   ],
   "source": [
    "IMAGE_COUNT = len(x_train)\n",
    "BATCH_SIZE = 20\n",
    "STEPS_PER_EPOCH = np.ceil((IMAGE_COUNT - IMAGE_COUNT * VALIDATION_SPLIT)/BATCH_SIZE)\n",
    "IMAGE_COUNT, STEPS_PER_EPOCH"
   ]
  },
  {
   "cell_type": "code",
   "execution_count": 10,
   "metadata": {},
   "outputs": [],
   "source": [
    "train_generator = train_datagen.flow(x_train, y_train,\n",
    "    batch_size=BATCH_SIZE, \n",
    "    subset='training',\n",
    "    shuffle=True,\n",
    "    seed=42\n",
    ")\n",
    "validation_generator = train_datagen.flow(x_train, y_train,\n",
    "    batch_size=BATCH_SIZE,\n",
    "    subset='validation',\n",
    "    shuffle=True,\n",
    "    seed=42\n",
    ")"
   ]
  },
  {
   "cell_type": "markdown",
   "metadata": {},
   "source": [
    "residual net"
   ]
  },
  {
   "cell_type": "code",
   "execution_count": 11,
   "metadata": {},
   "outputs": [],
   "source": [
    "def try_gpu(i=0):\n",
    "    \"\"\"Return gpu(i) if exists, otherwise return cpu().\"\"\"\n",
    "    if len(tf.config.experimental.list_physical_devices('GPU')) >= i + 1:\n",
    "        return tf.device(f'/GPU:{i}')\n",
    "    return tf.device('/CPU:0')\n"
   ]
  },
  {
   "cell_type": "code",
   "execution_count": 12,
   "metadata": {},
   "outputs": [],
   "source": [
    "from ResidualNet import ResidualNet, DefaultConv2D\n",
    "from datetime import datetime\n",
    "import keras_tuner as kt\n",
    "from keras_tuner import HyperParameters as hp\n",
    "date_time = datetime.now().strftime(\"%m_%d_%Y_%H_%M_%S\")\n",
    "device = try_gpu()._device_name\n",
    "strategy = tf.distribute.OneDeviceStrategy(device)\n",
    "\n",
    "\n",
    "def net_fn():\n",
    "    # with strategy.scope():\n",
    "    model = keras.Sequential(name=f'Residual_Net_{date_time}')\n",
    "    model.add(tf.keras.layers.Lambda(\n",
    "        lambda image: tf.image.resize(image, (TARGET_SIZE_H, TARGET_SIZE_W))))\n",
    "    model.add(DefaultConv2D(64, kernel_size=7,\n",
    "                            input_shape=(TARGET_SIZE_H, TARGET_SIZE_W, 3)))\n",
    "    model.add(keras.layers.BatchNormalization())\n",
    "    model.add(keras.layers.Activation(tf.nn.relu))\n",
    "    model.add(keras.layers.MaxPool2D(\n",
    "          pool_size=(3, 3), strides=(2, 2), padding='same'))\n",
    "    prev_filters = 64\n",
    "    for filters in [64] * 3 + [128] * 4 + [256] * 6 + [512] * 3:\n",
    "            strides = 1 if filters == prev_filters else 2\n",
    "            model.add(ResidualNet(filters, strides=strides))\n",
    "            prev_filters = filters\n",
    "    model.add(keras.layers.GlobalAveragePooling2D())\n",
    "    model.add(keras.layers.Flatten())\n",
    "    model.add(keras.layers.Dense(10, activation='softmax'))\n",
    "\n",
    "    lr_schedule = keras.optimizers.schedules.ExponentialDecay(\n",
    "    initial_learning_rate=1e-2,\n",
    "    decay_steps=10000,\n",
    "    decay_rate=0.9)\n",
    "    optimizer = tf.keras.optimizers.Adam(learning_rate=lr_schedule)\n",
    "\n",
    "    loss = tf.keras.losses.CategoricalCrossentropy()\n",
    "\n",
    "    model.compile(loss=loss, metrics=['accuracy'], optimizer=optimizer)\n",
    "   \n",
    "    return model"
   ]
  },
  {
   "cell_type": "code",
   "execution_count": 13,
   "metadata": {},
   "outputs": [
    {
     "name": "stdout",
     "output_type": "stream",
     "text": [
      "Epoch 1/25\n",
      "2250/2250 - 462s - loss: 2.0197 - accuracy: 0.2560 - val_loss: 2.5797 - val_accuracy: 0.2776\n",
      "Epoch 2/25\n",
      "2250/2250 - 457s - loss: 1.6157 - accuracy: 0.4090 - val_loss: 1.6248 - val_accuracy: 0.4558\n",
      "Epoch 3/25\n",
      "2250/2250 - 444s - loss: 1.3024 - accuracy: 0.5357 - val_loss: 1.2718 - val_accuracy: 0.5430\n",
      "Epoch 4/25\n",
      "2250/2250 - 444s - loss: 1.0998 - accuracy: 0.6144 - val_loss: 1.0589 - val_accuracy: 0.6252\n",
      "Epoch 5/25\n",
      "2250/2250 - 443s - loss: 0.9585 - accuracy: 0.6656 - val_loss: 0.8938 - val_accuracy: 0.6922\n",
      "Epoch 6/25\n",
      "2250/2250 - 449s - loss: 0.8605 - accuracy: 0.7019 - val_loss: 0.8701 - val_accuracy: 0.6950\n",
      "Epoch 7/25\n",
      "2250/2250 - 458s - loss: 0.7834 - accuracy: 0.7290 - val_loss: 0.7592 - val_accuracy: 0.7394\n",
      "Epoch 8/25\n",
      "2250/2250 - 440s - loss: 0.7160 - accuracy: 0.7542 - val_loss: 0.7695 - val_accuracy: 0.7324\n",
      "Epoch 9/25\n",
      "2250/2250 - 439s - loss: 0.6593 - accuracy: 0.7716 - val_loss: 0.6848 - val_accuracy: 0.7614\n",
      "Epoch 10/25\n",
      "2250/2250 - 439s - loss: 0.6042 - accuracy: 0.7923 - val_loss: 0.6442 - val_accuracy: 0.7762\n",
      "Epoch 11/25\n",
      "2250/2250 - 439s - loss: 0.5730 - accuracy: 0.8020 - val_loss: 0.5602 - val_accuracy: 0.8008\n",
      "Epoch 12/25\n",
      "2250/2250 - 452s - loss: 0.5341 - accuracy: 0.8168 - val_loss: 0.5365 - val_accuracy: 0.8180\n",
      "Epoch 13/25\n",
      "2250/2250 - 460s - loss: 0.5037 - accuracy: 0.8282 - val_loss: 0.5813 - val_accuracy: 0.8026\n",
      "Epoch 14/25\n",
      "2250/2250 - 471s - loss: 0.4752 - accuracy: 0.8363 - val_loss: 0.5104 - val_accuracy: 0.8306\n",
      "Epoch 15/25\n",
      "2250/2250 - 466s - loss: 0.4452 - accuracy: 0.8466 - val_loss: 0.5348 - val_accuracy: 0.8102\n",
      "Epoch 16/25\n",
      "2250/2250 - 461s - loss: 0.4236 - accuracy: 0.8537 - val_loss: 0.5121 - val_accuracy: 0.8284\n",
      "Epoch 17/25\n",
      "2250/2250 - 460s - loss: 0.4026 - accuracy: 0.8611 - val_loss: 0.4705 - val_accuracy: 0.8372\n",
      "Epoch 18/25\n",
      "2250/2250 - 462s - loss: 0.3790 - accuracy: 0.8700 - val_loss: 0.4522 - val_accuracy: 0.8448\n",
      "Epoch 19/25\n",
      "2250/2250 - 463s - loss: 0.3677 - accuracy: 0.8718 - val_loss: 0.4616 - val_accuracy: 0.8396\n",
      "Epoch 20/25\n",
      "2250/2250 - 461s - loss: 0.3500 - accuracy: 0.8786 - val_loss: 0.4280 - val_accuracy: 0.8530\n",
      "Epoch 21/25\n",
      "2250/2250 - 452s - loss: 0.3317 - accuracy: 0.8867 - val_loss: 0.4176 - val_accuracy: 0.8596\n",
      "Epoch 22/25\n",
      "2250/2250 - 463s - loss: 0.3189 - accuracy: 0.8907 - val_loss: 0.4591 - val_accuracy: 0.8490\n",
      "Epoch 23/25\n",
      "2250/2250 - 463s - loss: 0.3052 - accuracy: 0.8935 - val_loss: 0.4100 - val_accuracy: 0.8578\n",
      "Epoch 24/25\n",
      "2250/2250 - 466s - loss: 0.2900 - accuracy: 0.8996 - val_loss: 0.4246 - val_accuracy: 0.8562\n",
      "Epoch 25/25\n",
      "2250/2250 - 457s - loss: 0.2774 - accuracy: 0.9039 - val_loss: 0.4008 - val_accuracy: 0.8664\n"
     ]
    }
   ],
   "source": [
    "net = net_fn()\n",
    "history = net.fit(train_generator, validation_data=validation_generator,\n",
    "                      verbose=2, workers=6, epochs=25, steps_per_epoch=STEPS_PER_EPOCH)\n"
   ]
  },
  {
   "cell_type": "code",
   "execution_count": 14,
   "metadata": {},
   "outputs": [],
   "source": [
    "test_generator = test_datagen.flow(x_test, y_test)"
   ]
  },
  {
   "cell_type": "code",
   "execution_count": 15,
   "metadata": {},
   "outputs": [
    {
     "name": "stdout",
     "output_type": "stream",
     "text": [
      "313/313 - 24s - loss: 0.4719 - accuracy: 0.8428\n"
     ]
    }
   ],
   "source": [
    "score = net.evaluate(test_generator, workers=8,verbose=2)"
   ]
  },
  {
   "cell_type": "code",
   "execution_count": 16,
   "metadata": {},
   "outputs": [
    {
     "name": "stdout",
     "output_type": "stream",
     "text": [
      "Training accuracy:  0.9039111137390137\n",
      "Training loss:  0.27735790610313416\n",
      "Validation accuracy:  0.8664000034332275\n",
      "Validation loss:  0.4007970094680786\n"
     ]
    },
    {
     "data": {
      "image/png": "[encoded data removed]",
      "text/plain": [
       "<Figure size 432x288 with 1 Axes>"
      ]
     },
     "metadata": {
      "needs_background": "light"
     },
     "output_type": "display_data"
    },
    {
     "data": {
      "image/png": "[encoded data removed]",
      "text/plain": [
       "<Figure size 432x288 with 1 Axes>"
      ]
     },
     "metadata": {
      "needs_background": "light"
     },
     "output_type": "display_data"
    }
   ],
   "source": [
    "\n",
    "acc = history.history['accuracy'][-1]\n",
    "val_acc = history.history['val_accuracy'][-1]\n",
    "loss = history.history['loss'][-1]\n",
    "val_loss = history.history['val_loss'][-1]\n",
    "\n",
    "print(\"Training accuracy: \", acc)\n",
    "print(\"Training loss: \", loss)\n",
    "\n",
    "print(\"Validation accuracy: \", val_acc)\n",
    "print(\"Validation loss: \", val_loss)\n",
    "\n",
    "# Plotting the graphs to visualize the trend of accuracy and loss\n",
    "\n",
    "epochs = range(1, len(history.history['accuracy'])+1)\n",
    "\n",
    "plt.plot(epochs, history.history['accuracy'], 'bo', label='Training acc')\n",
    "plt.plot(epochs, history.history['val_accuracy'], 'b', label='Validation acc')\n",
    "plt.title('Training and validation accuracy')\n",
    "plt.legend()\n",
    "\n",
    "plt.figure()\n",
    "\n",
    "plt.plot(epochs, history.history['loss'], 'bo', label='Training loss')\n",
    "plt.plot(epochs, history.history['val_loss'], 'b', label='Validation loss')\n",
    "plt.title('Training and validation loss')\n",
    "plt.legend()\n",
    "\n",
    "plt.show()"
   ]
  }
 ],
 "metadata": {
  "interpreter": {
   "hash": "360eb45faca1e4dfefc4f13aa9499776008d91528b4d443d812d58097d713eb4"
  },
  "kernelspec": {
   "display_name": "Python 3.7.9 64-bit ('d2l': venv)",
   "language": "python",
   "name": "python3"
  },
  "language_info": {
   "codemirror_mode": {
    "name": "ipython",
    "version": 3
   },
   "file_extension": ".py",
   "mimetype": "text/x-python",
   "name": "python",
   "nbconvert_exporter": "python",
   "pygments_lexer": "ipython3",
   "version": "3.7.9"
  },
  "orig_nbformat": 4
 },
 "nbformat": 4,
 "nbformat_minor": 2
}
