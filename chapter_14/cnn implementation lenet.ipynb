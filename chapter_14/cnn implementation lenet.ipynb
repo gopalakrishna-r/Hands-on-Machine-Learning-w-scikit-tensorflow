{
 "cells": [
  {
   "cell_type": "code",
   "execution_count": 1,
   "metadata": {},
   "outputs": [],
   "source": [
    "from functools import partial\n",
    "import tensorflow as tf\n",
    "import tensorflow.keras as keras\n",
    "import numpy as np"
   ]
  },
  {
   "cell_type": "code",
   "execution_count": 2,
   "metadata": {},
   "outputs": [],
   "source": [
    "(X_train_full, y_train_full), (X_test, y_test) = keras.datasets.fashion_mnist.load_data()\n",
    "(X_train, y_train) , (X_valid, y_valid)   = (X_train_full[:-5000], y_train_full[:-5000]), (X_train_full[-5000:], y_train_full[-5000:])\n",
    "\n",
    "X_mean = X_train.mean(axis = 0, keepdims = True)\n",
    "X_std  = X_train.std(axis = 0, keepdims = True) + 1e-7\n",
    "\n",
    "X_train = (X_train - X_mean)/(X_std)\n",
    "X_valid = (X_valid - X_mean)/(X_std)\n",
    "X_test = (X_test - X_mean)/(X_std)\n",
    "\n",
    "\n",
    "X_train = X_train[..., np.newaxis]\n",
    "X_valid = X_valid[..., np.newaxis]\n",
    "X_test = X_test[..., np.newaxis]\n",
    "\n"
   ]
  },
  {
   "cell_type": "code",
   "execution_count": 3,
   "metadata": {},
   "outputs": [
    {
     "data": {
      "text/plain": [
       "((55000, 28, 28, 1), (5000, 28, 28, 1))"
      ]
     },
     "execution_count": 3,
     "metadata": {},
     "output_type": "execute_result"
    }
   ],
   "source": [
    "X_train.shape, X_valid.shape"
   ]
  },
  {
   "cell_type": "code",
   "execution_count": 4,
   "metadata": {},
   "outputs": [],
   "source": [
    "from datetime import datetime\n",
    "\n",
    "date_time = datetime.now().strftime(\"%m_%d_%Y_%H_%M_%S\")"
   ]
  },
  {
   "cell_type": "markdown",
   "metadata": {},
   "source": [
    "Lenet"
   ]
  },
  {
   "cell_type": "code",
   "execution_count": 5,
   "metadata": {},
   "outputs": [
    {
     "data": {
      "text/plain": [
       "((55000, 28, 28, 1), (5000, 28, 28, 1))"
      ]
     },
     "execution_count": 5,
     "metadata": {},
     "output_type": "execute_result"
    }
   ],
   "source": [
    "X_train.shape, X_valid.shape"
   ]
  },
  {
   "cell_type": "code",
   "execution_count": 6,
   "metadata": {},
   "outputs": [],
   "source": [
    "DefaultLeConv2D = partial(keras.layers.Conv2D, kernel_size=(5, 5), strides=(1, 1) , activation = tf.nn.tanh, padding = 'SAME')\n",
    "DefaultLeAvgPool2D = partial(keras.layers.AveragePooling2D, pool_size=(2, 2), strides=(2, 2), padding = 'SAME')\n",
    "DefaulatActivation = partial(tf.keras.layers.Activation)"
   ]
  },
  {
   "cell_type": "code",
   "execution_count": 7,
   "metadata": {},
   "outputs": [],
   "source": [
    "lenet_model = keras.models.Sequential([\n",
    "    DefaultLeConv2D(filters = 6, input_shape = X_train.shape[1:]),\n",
    "    DefaultLeAvgPool2D(), \n",
    "    DefaultLeConv2D(filters = 16, padding = 'VALID'),\n",
    "    DefaultLeAvgPool2D(), \n",
    "    keras.layers.Flatten(),\n",
    "    keras.layers.Dense(120, activation=tf.nn.tanh),\n",
    "    keras.layers.Dense(84, activation=tf.nn.tanh),\n",
    "    keras.layers.Dense(10, activation=tf.nn.softmax)\n",
    "    ], name=\"lenet_model_\" + date_time)"
   ]
  },
  {
   "cell_type": "code",
   "execution_count": 8,
   "metadata": {},
   "outputs": [
    {
     "name": "stdout",
     "output_type": "stream",
     "text": [
      "Model: \"lenet_model_01_29_2022_20_24_54\"\n",
      "_________________________________________________________________\n",
      "Layer (type)                 Output Shape              Param #   \n",
      "=================================================================\n",
      "conv2d (Conv2D)              (None, 28, 28, 6)         156       \n",
      "_________________________________________________________________\n",
      "average_pooling2d (AveragePo (None, 14, 14, 6)         0         \n",
      "_________________________________________________________________\n",
      "conv2d_1 (Conv2D)            (None, 10, 10, 16)        2416      \n",
      "_________________________________________________________________\n",
      "average_pooling2d_1 (Average (None, 5, 5, 16)          0         \n",
      "_________________________________________________________________\n",
      "flatten (Flatten)            (None, 400)               0         \n",
      "_________________________________________________________________\n",
      "dense (Dense)                (None, 120)               48120     \n",
      "_________________________________________________________________\n",
      "dense_1 (Dense)              (None, 84)                10164     \n",
      "_________________________________________________________________\n",
      "dense_2 (Dense)              (None, 10)                850       \n",
      "=================================================================\n",
      "Total params: 61,706\n",
      "Trainable params: 61,706\n",
      "Non-trainable params: 0\n",
      "_________________________________________________________________\n"
     ]
    }
   ],
   "source": [
    "lenet_model.summary()"
   ]
  },
  {
   "cell_type": "code",
   "execution_count": 12,
   "metadata": {},
   "outputs": [
    {
     "name": "stdout",
     "output_type": "stream",
     "text": [
      "Epoch 1/50\n",
      "1719/1719 [==============================] - 4s 3ms/step - loss: 0.0313 - accuracy: 0.9888 - val_loss: 0.6644 - val_accuracy: 0.8830\n",
      "Epoch 2/50\n",
      "1719/1719 [==============================] - 4s 2ms/step - loss: 0.0299 - accuracy: 0.9895 - val_loss: 0.6577 - val_accuracy: 0.8796\n",
      "Epoch 3/50\n",
      "1719/1719 [==============================] - 4s 2ms/step - loss: 0.0313 - accuracy: 0.9889 - val_loss: 0.6989 - val_accuracy: 0.8782\n",
      "Epoch 4/50\n",
      "1719/1719 [==============================] - 4s 2ms/step - loss: 0.0256 - accuracy: 0.9913 - val_loss: 0.6783 - val_accuracy: 0.8802\n",
      "Epoch 5/50\n",
      "1719/1719 [==============================] - 4s 2ms/step - loss: 0.0331 - accuracy: 0.9879 - val_loss: 0.6926 - val_accuracy: 0.8828\n",
      "Epoch 6/50\n",
      "1719/1719 [==============================] - 4s 2ms/step - loss: 0.0235 - accuracy: 0.9918 - val_loss: 0.6783 - val_accuracy: 0.8878\n",
      "Epoch 7/50\n",
      "1719/1719 [==============================] - 4s 2ms/step - loss: 0.0302 - accuracy: 0.9892 - val_loss: 0.6671 - val_accuracy: 0.8816\n",
      "Epoch 8/50\n",
      "1719/1719 [==============================] - 4s 2ms/step - loss: 0.0303 - accuracy: 0.9889 - val_loss: 0.6890 - val_accuracy: 0.8836\n",
      "Epoch 9/50\n",
      "1719/1719 [==============================] - 4s 2ms/step - loss: 0.0262 - accuracy: 0.9911 - val_loss: 0.6973 - val_accuracy: 0.8864\n",
      "Epoch 10/50\n",
      "1719/1719 [==============================] - 4s 2ms/step - loss: 0.0281 - accuracy: 0.9904 - val_loss: 0.6845 - val_accuracy: 0.8854\n",
      "Epoch 11/50\n",
      "1719/1719 [==============================] - 4s 2ms/step - loss: 0.0264 - accuracy: 0.9906 - val_loss: 0.7200 - val_accuracy: 0.8832\n",
      "Epoch 12/50\n",
      "1719/1719 [==============================] - 4s 2ms/step - loss: 0.0331 - accuracy: 0.9883 - val_loss: 0.7194 - val_accuracy: 0.8810\n",
      "Epoch 13/50\n",
      "1719/1719 [==============================] - 4s 3ms/step - loss: 0.0235 - accuracy: 0.9919 - val_loss: 0.7097 - val_accuracy: 0.8830\n",
      "Epoch 14/50\n",
      "1719/1719 [==============================] - 4s 3ms/step - loss: 0.0326 - accuracy: 0.9882 - val_loss: 0.7076 - val_accuracy: 0.8878\n",
      "Epoch 15/50\n",
      "1719/1719 [==============================] - 4s 2ms/step - loss: 0.0227 - accuracy: 0.9918 - val_loss: 0.7174 - val_accuracy: 0.8816\n",
      "Epoch 16/50\n",
      "1719/1719 [==============================] - 4s 2ms/step - loss: 0.0268 - accuracy: 0.9911 - val_loss: 0.7167 - val_accuracy: 0.8840\n",
      "Epoch 17/50\n",
      "1719/1719 [==============================] - 4s 2ms/step - loss: 0.0270 - accuracy: 0.9906 - val_loss: 0.7407 - val_accuracy: 0.8826\n",
      "Epoch 18/50\n",
      "1719/1719 [==============================] - 4s 2ms/step - loss: 0.0275 - accuracy: 0.9907 - val_loss: 0.7512 - val_accuracy: 0.8842\n",
      "Epoch 19/50\n",
      "1719/1719 [==============================] - 4s 2ms/step - loss: 0.0280 - accuracy: 0.9900 - val_loss: 0.7198 - val_accuracy: 0.8840\n",
      "Epoch 20/50\n",
      "1719/1719 [==============================] - 4s 3ms/step - loss: 0.0270 - accuracy: 0.9910 - val_loss: 0.7803 - val_accuracy: 0.8816\n",
      "Epoch 21/50\n",
      "1719/1719 [==============================] - 4s 3ms/step - loss: 0.0250 - accuracy: 0.9918 - val_loss: 0.7195 - val_accuracy: 0.8850\n",
      "Epoch 22/50\n",
      "1719/1719 [==============================] - 4s 2ms/step - loss: 0.0261 - accuracy: 0.9911 - val_loss: 0.7376 - val_accuracy: 0.8842\n",
      "Epoch 23/50\n",
      "1719/1719 [==============================] - 4s 2ms/step - loss: 0.0288 - accuracy: 0.9901 - val_loss: 0.7255 - val_accuracy: 0.8842\n",
      "Epoch 24/50\n",
      "1719/1719 [==============================] - 4s 2ms/step - loss: 0.0216 - accuracy: 0.9925 - val_loss: 0.7409 - val_accuracy: 0.8862\n",
      "Epoch 25/50\n",
      "1719/1719 [==============================] - 4s 2ms/step - loss: 0.0261 - accuracy: 0.9906 - val_loss: 0.7561 - val_accuracy: 0.8848\n",
      "Epoch 26/50\n",
      "1719/1719 [==============================] - 4s 2ms/step - loss: 0.0236 - accuracy: 0.9919 - val_loss: 0.7746 - val_accuracy: 0.8844\n",
      "Epoch 27/50\n",
      "1719/1719 [==============================] - 4s 2ms/step - loss: 0.0254 - accuracy: 0.9909 - val_loss: 0.7520 - val_accuracy: 0.8854\n",
      "Epoch 28/50\n",
      "1719/1719 [==============================] - 4s 2ms/step - loss: 0.0204 - accuracy: 0.9930 - val_loss: 0.7722 - val_accuracy: 0.8836\n",
      "Epoch 29/50\n",
      "1719/1719 [==============================] - 4s 2ms/step - loss: 0.0265 - accuracy: 0.9912 - val_loss: 0.7345 - val_accuracy: 0.8870\n",
      "Epoch 30/50\n",
      "1719/1719 [==============================] - 4s 2ms/step - loss: 0.0211 - accuracy: 0.9930 - val_loss: 0.7528 - val_accuracy: 0.8808\n",
      "Epoch 31/50\n",
      "1719/1719 [==============================] - 4s 3ms/step - loss: 0.0241 - accuracy: 0.9915 - val_loss: 0.7576 - val_accuracy: 0.8890\n",
      "Epoch 32/50\n",
      "1719/1719 [==============================] - 4s 2ms/step - loss: 0.0285 - accuracy: 0.9901 - val_loss: 0.7513 - val_accuracy: 0.8848\n",
      "Epoch 33/50\n",
      "1719/1719 [==============================] - 4s 2ms/step - loss: 0.0206 - accuracy: 0.9928 - val_loss: 0.7705 - val_accuracy: 0.8848\n",
      "Epoch 34/50\n",
      "1719/1719 [==============================] - 4s 2ms/step - loss: 0.0254 - accuracy: 0.9909 - val_loss: 0.7863 - val_accuracy: 0.8792\n",
      "Epoch 35/50\n",
      "1719/1719 [==============================] - 4s 2ms/step - loss: 0.0259 - accuracy: 0.9911 - val_loss: 0.7430 - val_accuracy: 0.8860 - ETA: 0s - loss: 0.0260 - ac\n",
      "Epoch 36/50\n",
      "1719/1719 [==============================] - 4s 2ms/step - loss: 0.0228 - accuracy: 0.9923 - val_loss: 0.7872 - val_accuracy: 0.8806\n",
      "Epoch 37/50\n",
      "1719/1719 [==============================] - 4s 2ms/step - loss: 0.0258 - accuracy: 0.9909 - val_loss: 0.7891 - val_accuracy: 0.8796\n",
      "Epoch 38/50\n",
      "1719/1719 [==============================] - 4s 2ms/step - loss: 0.0177 - accuracy: 0.9942 - val_loss: 0.7855 - val_accuracy: 0.8850\n",
      "Epoch 39/50\n",
      "1719/1719 [==============================] - 4s 2ms/step - loss: 0.0285 - accuracy: 0.9899 - val_loss: 0.7925 - val_accuracy: 0.8832\n",
      "Epoch 40/50\n",
      "1719/1719 [==============================] - 4s 2ms/step - loss: 0.0253 - accuracy: 0.9913 - val_loss: 0.7480 - val_accuracy: 0.8878\n",
      "Epoch 41/50\n",
      "1719/1719 [==============================] - 4s 2ms/step - loss: 0.0243 - accuracy: 0.9913 - val_loss: 0.7705 - val_accuracy: 0.8854\n",
      "Epoch 42/50\n",
      "1719/1719 [==============================] - 4s 2ms/step - loss: 0.0187 - accuracy: 0.9933 - val_loss: 0.7613 - val_accuracy: 0.8866\n",
      "Epoch 43/50\n",
      "1719/1719 [==============================] - 4s 2ms/step - loss: 0.0220 - accuracy: 0.9926 - val_loss: 0.8115 - val_accuracy: 0.8834\n",
      "Epoch 44/50\n",
      "1719/1719 [==============================] - 4s 2ms/step - loss: 0.0280 - accuracy: 0.9901 - val_loss: 0.7685 - val_accuracy: 0.8862\n",
      "Epoch 45/50\n",
      "1719/1719 [==============================] - 4s 2ms/step - loss: 0.0195 - accuracy: 0.9935 - val_loss: 0.7747 - val_accuracy: 0.8838\n",
      "Epoch 46/50\n",
      "1719/1719 [==============================] - 4s 2ms/step - loss: 0.0251 - accuracy: 0.9914 - val_loss: 0.7519 - val_accuracy: 0.8840\n",
      "Epoch 47/50\n",
      "1719/1719 [==============================] - 4s 2ms/step - loss: 0.0197 - accuracy: 0.9933 - val_loss: 0.7806 - val_accuracy: 0.8874\n",
      "Epoch 48/50\n",
      "1719/1719 [==============================] - 4s 2ms/step - loss: 0.0273 - accuracy: 0.9903 - val_loss: 0.7591 - val_accuracy: 0.8856\n",
      "Epoch 49/50\n",
      "1719/1719 [==============================] - 4s 2ms/step - loss: 0.0183 - accuracy: 0.9936 - val_loss: 0.7586 - val_accuracy: 0.8842\n",
      "Epoch 50/50\n",
      "1719/1719 [==============================] - 4s 2ms/step - loss: 0.0247 - accuracy: 0.9920 - val_loss: 0.7762 - val_accuracy: 0.8840\n",
      "313/313 [==============================] - 0s 1ms/step - loss: 0.8209 - accuracy: 0.8817\n"
     ]
    }
   ],
   "source": [
    "lenet_model.compile(loss=tf.losses.SparseCategoricalCrossentropy(), metrics=['accuracy'], optimizer=tf.optimizers.Adam())\n",
    "lenet_model.fit(X_train, y_train, validation_data=(X_valid, y_valid), epochs=50, workers=10)\n",
    "score = lenet_model.evaluate(X_test, y_test)\n"
   ]
  },
  {
   "cell_type": "code",
   "execution_count": null,
   "metadata": {},
   "outputs": [],
   "source": []
  }
 ],
 "metadata": {
  "interpreter": {
   "hash": "360eb45faca1e4dfefc4f13aa9499776008d91528b4d443d812d58097d713eb4"
  },
  "kernelspec": {
   "display_name": "Python 3.7.9 64-bit ('d2l': venv)",
   "language": "python",
   "name": "python3"
  },
  "language_info": {
   "codemirror_mode": {
    "name": "ipython",
    "version": 3
   },
   "file_extension": ".py",
   "mimetype": "text/x-python",
   "name": "python",
   "nbconvert_exporter": "python",
   "pygments_lexer": "ipython3",
   "version": "3.7.9"
  },
  "orig_nbformat": 4
 },
 "nbformat": 4,
 "nbformat_minor": 2
}
