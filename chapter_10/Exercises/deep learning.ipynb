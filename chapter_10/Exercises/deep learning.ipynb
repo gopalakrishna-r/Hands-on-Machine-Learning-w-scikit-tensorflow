{
 "cells": [
  {
   "cell_type": "markdown",
   "metadata": {},
   "source": [
    "### a.\n",
    "*Exercise: Build a DNN with 20 hidden layers of 100 neurons each (that's too many, but it's the point of this exercise). Use He initialization and the ELU activation function.*"
   ]
  },
  {
   "cell_type": "code",
   "execution_count": 1,
   "metadata": {},
   "outputs": [],
   "source": [
    "import tensorflow as tf\n",
    "import tensorflow.keras as keras\n",
    "import numpy as np\n",
    "import os\n",
    "import ssl\n",
    "%load_ext tensorboard"
   ]
  },
  {
   "cell_type": "code",
   "execution_count": 2,
   "metadata": {},
   "outputs": [],
   "source": [
    "keras.backend.clear_session()\n",
    "tf.random.set_seed(42)\n",
    "np.random.seed(42)"
   ]
  },
  {
   "cell_type": "code",
   "execution_count": 3,
   "metadata": {},
   "outputs": [],
   "source": [
    "from functools import partial\n",
    "\n",
    "RegularizedDense = partial(keras.layers.Dense, \n",
    "                              kernel_initializer = keras.initializers.he_normal(), \n",
    "                              activation = tf.nn.elu)"
   ]
  },
  {
   "cell_type": "code",
   "execution_count": 4,
   "metadata": {},
   "outputs": [],
   "source": [
    "model = keras.models.Sequential()\n",
    "model.add(\n",
    "    keras.layers.Flatten(input_shape = [32, 32, 3]))\n",
    "for _ in range(20):\n",
    "    model.add(RegularizedDense(100))\n",
    "\n"
   ]
  },
  {
   "cell_type": "markdown",
   "metadata": {},
   "source": [
    "### b.\n",
    "*Exercise: Using Nadam optimization and early stopping, train the network on the CIFAR10 dataset. You can load it with `keras.datasets.cifar10.load_data()`. The dataset is composed of 60,000 32 × 32–pixel color images (50,000 for training, 10,000 for testing) with 10 classes, so you'll need a softmax output layer with 10 neurons. Remember to search for the right learning rate each time you change the model's architecture or hyperparameters.*\n"
   ]
  },
  {
   "cell_type": "code",
   "execution_count": 5,
   "metadata": {},
   "outputs": [],
   "source": [
    "ssl._create_default_https_context = ssl._create_unverified_context"
   ]
  },
  {
   "cell_type": "code",
   "execution_count": 6,
   "metadata": {},
   "outputs": [],
   "source": [
    "(X_train_full, y_train_full), (X_test, y_test) = keras.datasets.cifar10.load_data()\n",
    "X_train_full = X_train_full / 255.0\n",
    "X_test = X_test / 255.0\n",
    "X_valid, X_train = X_train_full[:5000], X_train_full[5000:]\n",
    "y_valid, y_train = y_train_full[:5000], y_train_full[5000:]"
   ]
  },
  {
   "cell_type": "code",
   "execution_count": 7,
   "metadata": {},
   "outputs": [],
   "source": [
    "assert not np.any(np.isnan(X_train_full))"
   ]
  },
  {
   "cell_type": "code",
   "execution_count": 8,
   "metadata": {},
   "outputs": [],
   "source": [
    "model.add( keras.layers.Dense(10, activation= tf.nn.softmax))"
   ]
  },
  {
   "cell_type": "code",
   "execution_count": 9,
   "metadata": {},
   "outputs": [],
   "source": [
    "model.compile(optimizer=keras.optimizers.SGD(lr = 5e-5),\n",
    "              loss= keras.losses.SparseCategoricalCrossentropy(),\n",
    "              metrics=[\"accuracy\"],\n",
    "              )"
   ]
  },
  {
   "cell_type": "code",
   "execution_count": 10,
   "metadata": {},
   "outputs": [],
   "source": [
    "early_stopping_cb = keras.callbacks.EarlyStopping(patience=20)\n",
    "model_checkpoint_cb = keras.callbacks.ModelCheckpoint(\"cifar10_model.h5\" , save_best_only=True)\n",
    "\n",
    "run_index = 1\n",
    "run_logdir = os.path.join(os.curdir, \"cifar10_logs\", \"run_{:03d}\".format(run_index))\n",
    "tensorboard_cb = keras.callbacks.TensorBoard(run_logdir)\n",
    "\n",
    "callbacks = [early_stopping_cb, model_checkpoint_cb, tensorboard_cb]"
   ]
  },
  {
   "cell_type": "code",
   "execution_count": 11,
   "metadata": {},
   "outputs": [
    {
     "data": {
      "text/plain": [
       "Reusing TensorBoard on port 6006 (pid 8724), started 0:02:37 ago. (Use '!kill 8724' to kill it.)"
      ]
     },
     "metadata": {},
     "output_type": "display_data"
    },
    {
     "data": {
      "text/html": [
       "\n",
       "      <iframe id=\"tensorboard-frame-d90aada5e5282a7c\" width=\"100%\" height=\"800\" frameborder=\"0\">\n",
       "      </iframe>\n",
       "      <script>\n",
       "        (function() {\n",
       "          const frame = document.getElementById(\"tensorboard-frame-d90aada5e5282a7c\");\n",
       "          const url = new URL(\"http://localhost\");\n",
       "          const port = 6006;\n",
       "          if (port) {\n",
       "            url.port = port;\n",
       "          }\n",
       "          frame.src = url;\n",
       "        })();\n",
       "      </script>\n",
       "    "
      ],
      "text/plain": [
       "<IPython.core.display.HTML object>"
      ]
     },
     "metadata": {},
     "output_type": "display_data"
    }
   ],
   "source": [
    "%tensorboard --logdir=./cifar10_logs --port=6006\n"
   ]
  },
  {
   "cell_type": "code",
   "execution_count": 12,
   "metadata": {},
   "outputs": [
    {
     "name": "stdout",
     "output_type": "stream",
     "text": [
      "Epoch 1/100\n",
      "   1/1407 [..............................] - ETA: 0s - loss: 3.8969 - accuracy: 0.0312WARNING:tensorflow:From C:\\Users\\goofy\\d2l\\lib\\site-packages\\tensorflow\\python\\ops\\summary_ops_v2.py:1277: stop (from tensorflow.python.eager.profiler) is deprecated and will be removed after 2020-07-01.\n",
      "Instructions for updating:\n",
      "use `tf.profiler.experimental.stop` instead.\n",
      "WARNING:tensorflow:Callbacks method `on_train_batch_end` is slow compared to the batch time (batch time: 0.0000s vs `on_train_batch_end` time: 0.0408s). Check your callbacks.\n",
      "1407/1407 [==============================] - 6s 4ms/step - loss: 2.2975 - accuracy: 0.2044 - val_loss: 2.0795 - val_accuracy: 0.2548\n",
      "Epoch 2/100\n",
      "1407/1407 [==============================] - 5s 4ms/step - loss: 2.0601 - accuracy: 0.2516 - val_loss: 2.0046 - val_accuracy: 0.2752\n",
      "Epoch 3/100\n",
      "1407/1407 [==============================] - 6s 4ms/step - loss: 2.0023 - accuracy: 0.2721 - val_loss: 1.9585 - val_accuracy: 0.2912\n",
      "Epoch 4/100\n",
      "1407/1407 [==============================] - 5s 4ms/step - loss: 1.9621 - accuracy: 0.2898 - val_loss: 1.9328 - val_accuracy: 0.3046\n",
      "Epoch 5/100\n",
      "1407/1407 [==============================] - 6s 4ms/step - loss: 1.9299 - accuracy: 0.3026 - val_loss: 1.8940 - val_accuracy: 0.3170\n",
      "Epoch 6/100\n",
      "1407/1407 [==============================] - 5s 4ms/step - loss: 1.9027 - accuracy: 0.3118 - val_loss: 1.8717 - val_accuracy: 0.3334\n",
      "Epoch 7/100\n",
      "1407/1407 [==============================] - 6s 4ms/step - loss: 1.8777 - accuracy: 0.3234 - val_loss: 1.8508 - val_accuracy: 0.3386\n",
      "Epoch 8/100\n",
      "1407/1407 [==============================] - 6s 4ms/step - loss: 1.8574 - accuracy: 0.3314 - val_loss: 1.8390 - val_accuracy: 0.3368\n",
      "Epoch 9/100\n",
      "1407/1407 [==============================] - 6s 4ms/step - loss: 1.8383 - accuracy: 0.3364 - val_loss: 1.8133 - val_accuracy: 0.3470\n",
      "Epoch 10/100\n",
      "1407/1407 [==============================] - 6s 4ms/step - loss: 1.8218 - accuracy: 0.3426 - val_loss: 1.8132 - val_accuracy: 0.3440\n",
      "Epoch 11/100\n",
      "1407/1407 [==============================] - 5s 4ms/step - loss: 1.8066 - accuracy: 0.3501 - val_loss: 1.7905 - val_accuracy: 0.3558\n",
      "Epoch 12/100\n",
      "1407/1407 [==============================] - 6s 4ms/step - loss: 1.7935 - accuracy: 0.3547 - val_loss: 1.7767 - val_accuracy: 0.3656\n",
      "Epoch 13/100\n",
      "1407/1407 [==============================] - 6s 4ms/step - loss: 1.7810 - accuracy: 0.3578 - val_loss: 1.7738 - val_accuracy: 0.3590\n",
      "Epoch 14/100\n",
      "1407/1407 [==============================] - 5s 4ms/step - loss: 1.7697 - accuracy: 0.3641 - val_loss: 1.7566 - val_accuracy: 0.3682\n",
      "Epoch 15/100\n",
      "1407/1407 [==============================] - 5s 4ms/step - loss: 1.7594 - accuracy: 0.3668 - val_loss: 1.7456 - val_accuracy: 0.3794\n",
      "Epoch 16/100\n",
      "1407/1407 [==============================] - 6s 4ms/step - loss: 1.7493 - accuracy: 0.3690 - val_loss: 1.7497 - val_accuracy: 0.3702\n",
      "Epoch 17/100\n",
      "1407/1407 [==============================] - 5s 4ms/step - loss: 1.7410 - accuracy: 0.3725 - val_loss: 1.7351 - val_accuracy: 0.3766\n",
      "Epoch 18/100\n",
      "1407/1407 [==============================] - 6s 4ms/step - loss: 1.7318 - accuracy: 0.3778 - val_loss: 1.7227 - val_accuracy: 0.3798\n",
      "Epoch 19/100\n",
      "1407/1407 [==============================] - 6s 4ms/step - loss: 1.7234 - accuracy: 0.3784 - val_loss: 1.7177 - val_accuracy: 0.3834\n",
      "Epoch 20/100\n",
      "1407/1407 [==============================] - 5s 4ms/step - loss: 1.7163 - accuracy: 0.3821 - val_loss: 1.7124 - val_accuracy: 0.3838\n",
      "Epoch 21/100\n",
      "1407/1407 [==============================] - 6s 4ms/step - loss: 1.7093 - accuracy: 0.3861 - val_loss: 1.7081 - val_accuracy: 0.3842\n",
      "Epoch 22/100\n",
      "1407/1407 [==============================] - 6s 4ms/step - loss: 1.7023 - accuracy: 0.3883 - val_loss: 1.6974 - val_accuracy: 0.3896\n",
      "Epoch 23/100\n",
      "1407/1407 [==============================] - 6s 4ms/step - loss: 1.6957 - accuracy: 0.3905 - val_loss: 1.6999 - val_accuracy: 0.3864\n",
      "Epoch 24/100\n",
      "1407/1407 [==============================] - 6s 4ms/step - loss: 1.6889 - accuracy: 0.3927 - val_loss: 1.6986 - val_accuracy: 0.3890\n",
      "Epoch 25/100\n",
      "1407/1407 [==============================] - 6s 4ms/step - loss: 1.6827 - accuracy: 0.3949 - val_loss: 1.6877 - val_accuracy: 0.3902\n",
      "Epoch 26/100\n",
      "1407/1407 [==============================] - 5s 4ms/step - loss: 1.6764 - accuracy: 0.3983 - val_loss: 1.6840 - val_accuracy: 0.3932\n",
      "Epoch 27/100\n",
      "1407/1407 [==============================] - 5s 4ms/step - loss: 1.6707 - accuracy: 0.3999 - val_loss: 1.6775 - val_accuracy: 0.3942\n",
      "Epoch 28/100\n",
      "1407/1407 [==============================] - 6s 4ms/step - loss: 1.6648 - accuracy: 0.4002 - val_loss: 1.6700 - val_accuracy: 0.3988\n",
      "Epoch 29/100\n",
      "1407/1407 [==============================] - 6s 4ms/step - loss: 1.6602 - accuracy: 0.4033 - val_loss: 1.6631 - val_accuracy: 0.3970\n",
      "Epoch 30/100\n",
      "1407/1407 [==============================] - 5s 4ms/step - loss: 1.6540 - accuracy: 0.4045 - val_loss: 1.6861 - val_accuracy: 0.3912\n",
      "Epoch 31/100\n",
      "1407/1407 [==============================] - 6s 4ms/step - loss: 1.6492 - accuracy: 0.4069 - val_loss: 1.6677 - val_accuracy: 0.3990\n",
      "Epoch 32/100\n",
      "1407/1407 [==============================] - 5s 4ms/step - loss: 1.6446 - accuracy: 0.4076 - val_loss: 1.6558 - val_accuracy: 0.4032\n",
      "Epoch 33/100\n",
      "1407/1407 [==============================] - 6s 4ms/step - loss: 1.6391 - accuracy: 0.4104 - val_loss: 1.6518 - val_accuracy: 0.4060\n",
      "Epoch 34/100\n",
      "1407/1407 [==============================] - 6s 4ms/step - loss: 1.6346 - accuracy: 0.4115 - val_loss: 1.6466 - val_accuracy: 0.4068\n",
      "Epoch 35/100\n",
      "1407/1407 [==============================] - 5s 4ms/step - loss: 1.6302 - accuracy: 0.4143 - val_loss: 1.6677 - val_accuracy: 0.4002\n",
      "Epoch 36/100\n",
      "1407/1407 [==============================] - 6s 4ms/step - loss: 1.6260 - accuracy: 0.4151 - val_loss: 1.6396 - val_accuracy: 0.4114\n",
      "Epoch 37/100\n",
      "1407/1407 [==============================] - 5s 4ms/step - loss: 1.6210 - accuracy: 0.4169 - val_loss: 1.6364 - val_accuracy: 0.4084\n",
      "Epoch 38/100\n",
      "1407/1407 [==============================] - 6s 4ms/step - loss: 1.6167 - accuracy: 0.4202 - val_loss: 1.6344 - val_accuracy: 0.4156\n",
      "Epoch 39/100\n",
      "1407/1407 [==============================] - 5s 4ms/step - loss: 1.6128 - accuracy: 0.4203 - val_loss: 1.6286 - val_accuracy: 0.4114\n",
      "Epoch 40/100\n",
      "1407/1407 [==============================] - 5s 4ms/step - loss: 1.6081 - accuracy: 0.4223 - val_loss: 1.6255 - val_accuracy: 0.4114\n",
      "Epoch 41/100\n",
      "1407/1407 [==============================] - 6s 4ms/step - loss: 1.6054 - accuracy: 0.4216 - val_loss: 1.6214 - val_accuracy: 0.4196\n",
      "Epoch 42/100\n",
      "1407/1407 [==============================] - 5s 4ms/step - loss: 1.6009 - accuracy: 0.4256 - val_loss: 1.6242 - val_accuracy: 0.4152\n",
      "Epoch 43/100\n",
      "1407/1407 [==============================] - 5s 4ms/step - loss: 1.5972 - accuracy: 0.4261 - val_loss: 1.6272 - val_accuracy: 0.4116\n",
      "Epoch 44/100\n",
      "1407/1407 [==============================] - 5s 4ms/step - loss: 1.5932 - accuracy: 0.4295 - val_loss: 1.6201 - val_accuracy: 0.4190\n",
      "Epoch 45/100\n",
      "1407/1407 [==============================] - 6s 4ms/step - loss: 1.5896 - accuracy: 0.4291 - val_loss: 1.6176 - val_accuracy: 0.4262\n",
      "Epoch 46/100\n",
      "1407/1407 [==============================] - 6s 4ms/step - loss: 1.5865 - accuracy: 0.4316 - val_loss: 1.6076 - val_accuracy: 0.4212\n",
      "Epoch 47/100\n",
      "1407/1407 [==============================] - 5s 4ms/step - loss: 1.5827 - accuracy: 0.4314 - val_loss: 1.6092 - val_accuracy: 0.4192\n",
      "Epoch 48/100\n",
      "1407/1407 [==============================] - 5s 4ms/step - loss: 1.5794 - accuracy: 0.4340 - val_loss: 1.6101 - val_accuracy: 0.4216\n",
      "Epoch 49/100\n",
      "1407/1407 [==============================] - 6s 4ms/step - loss: 1.5762 - accuracy: 0.4351 - val_loss: 1.6025 - val_accuracy: 0.4220\n",
      "Epoch 50/100\n",
      "1407/1407 [==============================] - 6s 4ms/step - loss: 1.5728 - accuracy: 0.4356 - val_loss: 1.6019 - val_accuracy: 0.4264\n",
      "Epoch 51/100\n",
      "1407/1407 [==============================] - 5s 4ms/step - loss: 1.5691 - accuracy: 0.4390 - val_loss: 1.6014 - val_accuracy: 0.4280\n",
      "Epoch 52/100\n",
      "1407/1407 [==============================] - 5s 4ms/step - loss: 1.5665 - accuracy: 0.4381 - val_loss: 1.6008 - val_accuracy: 0.4202\n",
      "Epoch 53/100\n",
      "1407/1407 [==============================] - 5s 4ms/step - loss: 1.5629 - accuracy: 0.4394 - val_loss: 1.5995 - val_accuracy: 0.4278\n",
      "Epoch 54/100\n",
      "1407/1407 [==============================] - 6s 4ms/step - loss: 1.5598 - accuracy: 0.4418 - val_loss: 1.6205 - val_accuracy: 0.4224\n",
      "Epoch 55/100\n",
      "1407/1407 [==============================] - 6s 4ms/step - loss: 1.5571 - accuracy: 0.4428 - val_loss: 1.5912 - val_accuracy: 0.4280\n",
      "Epoch 56/100\n",
      "1407/1407 [==============================] - 5s 4ms/step - loss: 1.5544 - accuracy: 0.4425 - val_loss: 1.5966 - val_accuracy: 0.4262\n",
      "Epoch 57/100\n",
      "1407/1407 [==============================] - 6s 4ms/step - loss: 1.5509 - accuracy: 0.4432 - val_loss: 1.5834 - val_accuracy: 0.4354\n",
      "Epoch 58/100\n",
      "1407/1407 [==============================] - 5s 4ms/step - loss: 1.5485 - accuracy: 0.4455 - val_loss: 1.5807 - val_accuracy: 0.4358\n",
      "Epoch 59/100\n",
      "1407/1407 [==============================] - 5s 4ms/step - loss: 1.5456 - accuracy: 0.4460 - val_loss: 1.5795 - val_accuracy: 0.4362\n",
      "Epoch 60/100\n",
      "1407/1407 [==============================] - 5s 4ms/step - loss: 1.5433 - accuracy: 0.4455 - val_loss: 1.5842 - val_accuracy: 0.4326\n",
      "Epoch 61/100\n",
      "1407/1407 [==============================] - 5s 4ms/step - loss: 1.5402 - accuracy: 0.4467 - val_loss: 1.5776 - val_accuracy: 0.4280\n",
      "Epoch 62/100\n",
      "1407/1407 [==============================] - 5s 4ms/step - loss: 1.5375 - accuracy: 0.4504 - val_loss: 1.5787 - val_accuracy: 0.4278\n",
      "Epoch 63/100\n",
      "1407/1407 [==============================] - 6s 4ms/step - loss: 1.5351 - accuracy: 0.4501 - val_loss: 1.5744 - val_accuracy: 0.4368\n",
      "Epoch 64/100\n",
      "1407/1407 [==============================] - 6s 4ms/step - loss: 1.5316 - accuracy: 0.4527 - val_loss: 1.5866 - val_accuracy: 0.4218\n",
      "Epoch 65/100\n",
      "1407/1407 [==============================] - 5s 4ms/step - loss: 1.5293 - accuracy: 0.4521 - val_loss: 1.5724 - val_accuracy: 0.4314\n",
      "Epoch 66/100\n",
      "1407/1407 [==============================] - 5s 4ms/step - loss: 1.5258 - accuracy: 0.4531 - val_loss: 1.5689 - val_accuracy: 0.4384\n",
      "Epoch 67/100\n",
      "1407/1407 [==============================] - 5s 4ms/step - loss: 1.5243 - accuracy: 0.4545 - val_loss: 1.5762 - val_accuracy: 0.4368\n",
      "Epoch 68/100\n",
      "1407/1407 [==============================] - 6s 4ms/step - loss: 1.5213 - accuracy: 0.4556 - val_loss: 1.5620 - val_accuracy: 0.4346\n",
      "Epoch 69/100\n",
      "1407/1407 [==============================] - 6s 4ms/step - loss: 1.5188 - accuracy: 0.4568 - val_loss: 1.5660 - val_accuracy: 0.4330\n",
      "Epoch 70/100\n",
      "1407/1407 [==============================] - 6s 4ms/step - loss: 1.5165 - accuracy: 0.4575 - val_loss: 1.5777 - val_accuracy: 0.4370\n",
      "Epoch 71/100\n",
      "1407/1407 [==============================] - 6s 4ms/step - loss: 1.5141 - accuracy: 0.4578 - val_loss: 1.5602 - val_accuracy: 0.4352\n",
      "Epoch 72/100\n",
      "1407/1407 [==============================] - 6s 4ms/step - loss: 1.5112 - accuracy: 0.4588 - val_loss: 1.5540 - val_accuracy: 0.4404\n",
      "Epoch 73/100\n",
      "1407/1407 [==============================] - 6s 4ms/step - loss: 1.5100 - accuracy: 0.4594 - val_loss: 1.5602 - val_accuracy: 0.4374\n",
      "Epoch 74/100\n",
      "1407/1407 [==============================] - 6s 4ms/step - loss: 1.5069 - accuracy: 0.4598 - val_loss: 1.5521 - val_accuracy: 0.4380\n",
      "Epoch 75/100\n",
      "1407/1407 [==============================] - 6s 4ms/step - loss: 1.5049 - accuracy: 0.4611 - val_loss: 1.5535 - val_accuracy: 0.4380\n",
      "Epoch 76/100\n",
      "1407/1407 [==============================] - 6s 4ms/step - loss: 1.5025 - accuracy: 0.4597 - val_loss: 1.5523 - val_accuracy: 0.4424\n",
      "Epoch 77/100\n",
      "1407/1407 [==============================] - 5s 4ms/step - loss: 1.4999 - accuracy: 0.4614 - val_loss: 1.5476 - val_accuracy: 0.4466\n",
      "Epoch 78/100\n",
      "1407/1407 [==============================] - 5s 4ms/step - loss: 1.4977 - accuracy: 0.4641 - val_loss: 1.5471 - val_accuracy: 0.4414\n",
      "Epoch 79/100\n",
      "1407/1407 [==============================] - 5s 4ms/step - loss: 1.4957 - accuracy: 0.4639 - val_loss: 1.5509 - val_accuracy: 0.4426\n",
      "Epoch 80/100\n",
      "1407/1407 [==============================] - 6s 4ms/step - loss: 1.4932 - accuracy: 0.4633 - val_loss: 1.5447 - val_accuracy: 0.4428\n",
      "Epoch 81/100\n",
      "1407/1407 [==============================] - 5s 4ms/step - loss: 1.4901 - accuracy: 0.4652 - val_loss: 1.5579 - val_accuracy: 0.4460\n",
      "Epoch 82/100\n",
      "1407/1407 [==============================] - 5s 4ms/step - loss: 1.4894 - accuracy: 0.4649 - val_loss: 1.5448 - val_accuracy: 0.4406\n",
      "Epoch 83/100\n",
      "1407/1407 [==============================] - 5s 4ms/step - loss: 1.4868 - accuracy: 0.4652 - val_loss: 1.5482 - val_accuracy: 0.4428\n",
      "Epoch 84/100\n",
      "1407/1407 [==============================] - 5s 4ms/step - loss: 1.4848 - accuracy: 0.4665 - val_loss: 1.5392 - val_accuracy: 0.4456\n",
      "Epoch 85/100\n",
      "1407/1407 [==============================] - 6s 4ms/step - loss: 1.4833 - accuracy: 0.4674 - val_loss: 1.5455 - val_accuracy: 0.4448\n",
      "Epoch 86/100\n",
      "1407/1407 [==============================] - 5s 4ms/step - loss: 1.4806 - accuracy: 0.4706 - val_loss: 1.5422 - val_accuracy: 0.4476\n",
      "Epoch 87/100\n",
      "1407/1407 [==============================] - 6s 4ms/step - loss: 1.4788 - accuracy: 0.4702 - val_loss: 1.5379 - val_accuracy: 0.4484\n",
      "Epoch 88/100\n",
      "1407/1407 [==============================] - 6s 4ms/step - loss: 1.4762 - accuracy: 0.4700 - val_loss: 1.5380 - val_accuracy: 0.4444\n",
      "Epoch 89/100\n",
      "1407/1407 [==============================] - 6s 4ms/step - loss: 1.4737 - accuracy: 0.4712 - val_loss: 1.5316 - val_accuracy: 0.4502\n",
      "Epoch 90/100\n",
      "1407/1407 [==============================] - 6s 4ms/step - loss: 1.4723 - accuracy: 0.4717 - val_loss: 1.5363 - val_accuracy: 0.4524\n",
      "Epoch 91/100\n",
      "1407/1407 [==============================] - 5s 4ms/step - loss: 1.4708 - accuracy: 0.4728 - val_loss: 1.5345 - val_accuracy: 0.4518\n",
      "Epoch 92/100\n",
      "1407/1407 [==============================] - 5s 4ms/step - loss: 1.4685 - accuracy: 0.4735 - val_loss: 1.5353 - val_accuracy: 0.4496\n",
      "Epoch 93/100\n",
      "1407/1407 [==============================] - 5s 4ms/step - loss: 1.4664 - accuracy: 0.4735 - val_loss: 1.5227 - val_accuracy: 0.4522\n",
      "Epoch 94/100\n",
      "1407/1407 [==============================] - 6s 4ms/step - loss: 1.4639 - accuracy: 0.4742 - val_loss: 1.5233 - val_accuracy: 0.4524\n",
      "Epoch 95/100\n",
      "1407/1407 [==============================] - 5s 4ms/step - loss: 1.4625 - accuracy: 0.4738 - val_loss: 1.5574 - val_accuracy: 0.4370\n",
      "Epoch 96/100\n",
      "1407/1407 [==============================] - 6s 4ms/step - loss: 1.4603 - accuracy: 0.4753 - val_loss: 1.5305 - val_accuracy: 0.4526\n",
      "Epoch 97/100\n",
      "1407/1407 [==============================] - 6s 4ms/step - loss: 1.4586 - accuracy: 0.4753 - val_loss: 1.5260 - val_accuracy: 0.4540\n",
      "Epoch 98/100\n",
      "1407/1407 [==============================] - 5s 4ms/step - loss: 1.4566 - accuracy: 0.4770 - val_loss: 1.5309 - val_accuracy: 0.4546\n",
      "Epoch 99/100\n",
      "1407/1407 [==============================] - 5s 4ms/step - loss: 1.4549 - accuracy: 0.4771 - val_loss: 1.5189 - val_accuracy: 0.4554\n",
      "Epoch 100/100\n",
      "1407/1407 [==============================] - 6s 4ms/step - loss: 1.4526 - accuracy: 0.4792 - val_loss: 1.5427 - val_accuracy: 0.4446\n",
      "313/313 [==============================] - 1s 2ms/step - loss: 1.5407 - accuracy: 0.4448\n"
     ]
    }
   ],
   "source": [
    "model.fit(X_train, y_train, epochs= 100, verbose = 1, \n",
    "          validation_data=(X_valid, y_valid), callbacks = callbacks, workers = 0)\n",
    "\n",
    "mse_test = model.evaluate(X_test, y_test)"
   ]
  }
 ],
 "metadata": {
  "interpreter": {
   "hash": "360eb45faca1e4dfefc4f13aa9499776008d91528b4d443d812d58097d713eb4"
  },
  "kernelspec": {
   "display_name": "Python 3.7.9 64-bit ('d2l': venv)",
   "language": "python",
   "name": "python3"
  },
  "language_info": {
   "codemirror_mode": {
    "name": "ipython",
    "version": 3
   },
   "file_extension": ".py",
   "mimetype": "text/x-python",
   "name": "python",
   "nbconvert_exporter": "python",
   "pygments_lexer": "ipython3",
   "version": "3.7.9"
  },
  "orig_nbformat": 4
 },
 "nbformat": 4,
 "nbformat_minor": 2
}
